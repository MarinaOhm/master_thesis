{
  "nbformat": 4,
  "nbformat_minor": 0,
  "metadata": {
    "colab": {
      "provenance": [],
      "include_colab_link": true
    },
    "kernelspec": {
      "name": "python3",
      "display_name": "Python 3"
    },
    "language_info": {
      "name": "python"
    }
  },
  "cells": [
    {
      "cell_type": "markdown",
      "metadata": {
        "id": "view-in-github",
        "colab_type": "text"
      },
      "source": [
        "<a href=\"https://colab.research.google.com/github/MarinaOhm/master_thesis/blob/main/RICE_FORECASTING_PLOTS.ipynb\" target=\"_parent\"><img src=\"https://colab.research.google.com/assets/colab-badge.svg\" alt=\"Open In Colab\"/></a>"
      ]
    },
    {
      "cell_type": "markdown",
      "source": [
        "# Master thesis\n",
        "## *Forecasting plots for Forecasting*\n",
        "*Developed by Max Hedeman Gueniau, Niklas Madsen, and Marina Ohm*"
      ],
      "metadata": {
        "id": "xpQi85GGCxQw"
      }
    },
    {
      "cell_type": "markdown",
      "source": [
        "# Importing libraries"
      ],
      "metadata": {
        "id": "BSRa-o5HC8LA"
      }
    },
    {
      "cell_type": "code",
      "execution_count": null,
      "metadata": {
        "id": "2OHokWaR99QI"
      },
      "outputs": [],
      "source": [
        "# Libraries used for data wrangling and visualizations \n",
        "import pandas as pd\n",
        "import numpy as np\n",
        "import seaborn as sns\n",
        "import time\n",
        "import matplotlib.pyplot as plt\n",
        "import plotly.express as px\n",
        "import warnings\n",
        "import plotly.graph_objects as go\n",
        "from datetime import datetime\n",
        "from prettytable import PrettyTable\n",
        "from plotly.subplots import make_subplots\n"
      ]
    },
    {
      "cell_type": "code",
      "source": [
        "forecasting_data=pd.read_csv('/content/drive/MyDrive/final_forecasts_rice.csv')#, sep=';')\n",
        "forecasting_data.head()"
      ],
      "metadata": {
        "colab": {
          "base_uri": "https://localhost:8080/",
          "height": 206
        },
        "id": "8XiBfBBO-AtI",
        "outputId": "1561be11-12fc-47fc-f76f-42e90d4c9a08"
      },
      "execution_count": null,
      "outputs": [
        {
          "output_type": "execute_result",
          "data": {
            "text/plain": [
              "   Unnamed: 0 _ItemNumber       Model  Forecast  ConfInt_lower  ConfInt_upper  \\\n",
              "0  2023-04-16  BGLEA-RVIL  EXP SMOOTH  3.078716       0.115656       6.041776   \n",
              "1  2023-04-23  BGLEA-RVIL  EXP SMOOTH  2.183034      -0.780025       5.146094   \n",
              "2  2023-04-30  BGLEA-RVIL  EXP SMOOTH  1.610331      -1.352729       4.573391   \n",
              "3  2023-05-07  BGLEA-RVIL  EXP SMOOTH  1.227302      -1.735758       4.190361   \n",
              "4  2023-05-14  BGLEA-RVIL  EXP SMOOTH  0.961760      -2.001300       3.924819   \n",
              "\n",
              "   train_test_RMSE  \n",
              "0        33.290582  \n",
              "1        33.290582  \n",
              "2        33.290582  \n",
              "3        33.290582  \n",
              "4        33.290582  "
            ],
            "text/html": [
              "\n",
              "  <div id=\"df-08aa2be9-d2b9-459f-b283-f9ca15f12f22\">\n",
              "    <div class=\"colab-df-container\">\n",
              "      <div>\n",
              "<style scoped>\n",
              "    .dataframe tbody tr th:only-of-type {\n",
              "        vertical-align: middle;\n",
              "    }\n",
              "\n",
              "    .dataframe tbody tr th {\n",
              "        vertical-align: top;\n",
              "    }\n",
              "\n",
              "    .dataframe thead th {\n",
              "        text-align: right;\n",
              "    }\n",
              "</style>\n",
              "<table border=\"1\" class=\"dataframe\">\n",
              "  <thead>\n",
              "    <tr style=\"text-align: right;\">\n",
              "      <th></th>\n",
              "      <th>Unnamed: 0</th>\n",
              "      <th>_ItemNumber</th>\n",
              "      <th>Model</th>\n",
              "      <th>Forecast</th>\n",
              "      <th>ConfInt_lower</th>\n",
              "      <th>ConfInt_upper</th>\n",
              "      <th>train_test_RMSE</th>\n",
              "    </tr>\n",
              "  </thead>\n",
              "  <tbody>\n",
              "    <tr>\n",
              "      <th>0</th>\n",
              "      <td>2023-04-16</td>\n",
              "      <td>BGLEA-RVIL</td>\n",
              "      <td>EXP SMOOTH</td>\n",
              "      <td>3.078716</td>\n",
              "      <td>0.115656</td>\n",
              "      <td>6.041776</td>\n",
              "      <td>33.290582</td>\n",
              "    </tr>\n",
              "    <tr>\n",
              "      <th>1</th>\n",
              "      <td>2023-04-23</td>\n",
              "      <td>BGLEA-RVIL</td>\n",
              "      <td>EXP SMOOTH</td>\n",
              "      <td>2.183034</td>\n",
              "      <td>-0.780025</td>\n",
              "      <td>5.146094</td>\n",
              "      <td>33.290582</td>\n",
              "    </tr>\n",
              "    <tr>\n",
              "      <th>2</th>\n",
              "      <td>2023-04-30</td>\n",
              "      <td>BGLEA-RVIL</td>\n",
              "      <td>EXP SMOOTH</td>\n",
              "      <td>1.610331</td>\n",
              "      <td>-1.352729</td>\n",
              "      <td>4.573391</td>\n",
              "      <td>33.290582</td>\n",
              "    </tr>\n",
              "    <tr>\n",
              "      <th>3</th>\n",
              "      <td>2023-05-07</td>\n",
              "      <td>BGLEA-RVIL</td>\n",
              "      <td>EXP SMOOTH</td>\n",
              "      <td>1.227302</td>\n",
              "      <td>-1.735758</td>\n",
              "      <td>4.190361</td>\n",
              "      <td>33.290582</td>\n",
              "    </tr>\n",
              "    <tr>\n",
              "      <th>4</th>\n",
              "      <td>2023-05-14</td>\n",
              "      <td>BGLEA-RVIL</td>\n",
              "      <td>EXP SMOOTH</td>\n",
              "      <td>0.961760</td>\n",
              "      <td>-2.001300</td>\n",
              "      <td>3.924819</td>\n",
              "      <td>33.290582</td>\n",
              "    </tr>\n",
              "  </tbody>\n",
              "</table>\n",
              "</div>\n",
              "      <button class=\"colab-df-convert\" onclick=\"convertToInteractive('df-08aa2be9-d2b9-459f-b283-f9ca15f12f22')\"\n",
              "              title=\"Convert this dataframe to an interactive table.\"\n",
              "              style=\"display:none;\">\n",
              "        \n",
              "  <svg xmlns=\"http://www.w3.org/2000/svg\" height=\"24px\"viewBox=\"0 0 24 24\"\n",
              "       width=\"24px\">\n",
              "    <path d=\"M0 0h24v24H0V0z\" fill=\"none\"/>\n",
              "    <path d=\"M18.56 5.44l.94 2.06.94-2.06 2.06-.94-2.06-.94-.94-2.06-.94 2.06-2.06.94zm-11 1L8.5 8.5l.94-2.06 2.06-.94-2.06-.94L8.5 2.5l-.94 2.06-2.06.94zm10 10l.94 2.06.94-2.06 2.06-.94-2.06-.94-.94-2.06-.94 2.06-2.06.94z\"/><path d=\"M17.41 7.96l-1.37-1.37c-.4-.4-.92-.59-1.43-.59-.52 0-1.04.2-1.43.59L10.3 9.45l-7.72 7.72c-.78.78-.78 2.05 0 2.83L4 21.41c.39.39.9.59 1.41.59.51 0 1.02-.2 1.41-.59l7.78-7.78 2.81-2.81c.8-.78.8-2.07 0-2.86zM5.41 20L4 18.59l7.72-7.72 1.47 1.35L5.41 20z\"/>\n",
              "  </svg>\n",
              "      </button>\n",
              "      \n",
              "  <style>\n",
              "    .colab-df-container {\n",
              "      display:flex;\n",
              "      flex-wrap:wrap;\n",
              "      gap: 12px;\n",
              "    }\n",
              "\n",
              "    .colab-df-convert {\n",
              "      background-color: #E8F0FE;\n",
              "      border: none;\n",
              "      border-radius: 50%;\n",
              "      cursor: pointer;\n",
              "      display: none;\n",
              "      fill: #1967D2;\n",
              "      height: 32px;\n",
              "      padding: 0 0 0 0;\n",
              "      width: 32px;\n",
              "    }\n",
              "\n",
              "    .colab-df-convert:hover {\n",
              "      background-color: #E2EBFA;\n",
              "      box-shadow: 0px 1px 2px rgba(60, 64, 67, 0.3), 0px 1px 3px 1px rgba(60, 64, 67, 0.15);\n",
              "      fill: #174EA6;\n",
              "    }\n",
              "\n",
              "    [theme=dark] .colab-df-convert {\n",
              "      background-color: #3B4455;\n",
              "      fill: #D2E3FC;\n",
              "    }\n",
              "\n",
              "    [theme=dark] .colab-df-convert:hover {\n",
              "      background-color: #434B5C;\n",
              "      box-shadow: 0px 1px 3px 1px rgba(0, 0, 0, 0.15);\n",
              "      filter: drop-shadow(0px 1px 2px rgba(0, 0, 0, 0.3));\n",
              "      fill: #FFFFFF;\n",
              "    }\n",
              "  </style>\n",
              "\n",
              "      <script>\n",
              "        const buttonEl =\n",
              "          document.querySelector('#df-08aa2be9-d2b9-459f-b283-f9ca15f12f22 button.colab-df-convert');\n",
              "        buttonEl.style.display =\n",
              "          google.colab.kernel.accessAllowed ? 'block' : 'none';\n",
              "\n",
              "        async function convertToInteractive(key) {\n",
              "          const element = document.querySelector('#df-08aa2be9-d2b9-459f-b283-f9ca15f12f22');\n",
              "          const dataTable =\n",
              "            await google.colab.kernel.invokeFunction('convertToInteractive',\n",
              "                                                     [key], {});\n",
              "          if (!dataTable) return;\n",
              "\n",
              "          const docLinkHtml = 'Like what you see? Visit the ' +\n",
              "            '<a target=\"_blank\" href=https://colab.research.google.com/notebooks/data_table.ipynb>data table notebook</a>'\n",
              "            + ' to learn more about interactive tables.';\n",
              "          element.innerHTML = '';\n",
              "          dataTable['output_type'] = 'display_data';\n",
              "          await google.colab.output.renderOutput(dataTable, element);\n",
              "          const docLink = document.createElement('div');\n",
              "          docLink.innerHTML = docLinkHtml;\n",
              "          element.appendChild(docLink);\n",
              "        }\n",
              "      </script>\n",
              "    </div>\n",
              "  </div>\n",
              "  "
            ]
          },
          "metadata": {},
          "execution_count": 2
        }
      ]
    },
    {
      "cell_type": "code",
      "source": [
        "forecasting_data = forecasting_data.rename(columns={\"Unnamed: 0\": \"date_weekly\"})"
      ],
      "metadata": {
        "id": "v4aL_SEaCHeC"
      },
      "execution_count": null,
      "outputs": []
    },
    {
      "cell_type": "code",
      "source": [
        "forecasting_data.columns"
      ],
      "metadata": {
        "colab": {
          "base_uri": "https://localhost:8080/"
        },
        "id": "Esgfe1SwBQVP",
        "outputId": "df28c830-37cd-4507-f69f-8091708021ce"
      },
      "execution_count": null,
      "outputs": [
        {
          "output_type": "execute_result",
          "data": {
            "text/plain": [
              "Index(['date_weekly', '_ItemNumber', 'Model', 'Forecast', 'ConfInt_lower',\n",
              "       'ConfInt_upper', 'train_test_RMSE'],\n",
              "      dtype='object')"
            ]
          },
          "metadata": {},
          "execution_count": 4
        }
      ]
    },
    {
      "cell_type": "code",
      "source": [
        "len(forecasting_data._ItemNumber.unique())"
      ],
      "metadata": {
        "colab": {
          "base_uri": "https://localhost:8080/"
        },
        "id": "mFOGlxh8CPVw",
        "outputId": "82068272-57fd-4813-9bcd-07145065aec6"
      },
      "execution_count": null,
      "outputs": [
        {
          "output_type": "execute_result",
          "data": {
            "text/plain": [
              "234"
            ]
          },
          "metadata": {},
          "execution_count": 5
        }
      ]
    },
    {
      "cell_type": "code",
      "source": [
        "# Read original data to merge with forecasting results, in order to get observed values \n",
        "original_data=pd.read_csv('/content/drive/MyDrive/weekly_forecasting data.csv')#, sep=';')\n",
        "original_data=original_data.drop(['date_'], axis=1)\n",
        "original_data.head()"
      ],
      "metadata": {
        "id": "lpXILdeH-XR8",
        "colab": {
          "base_uri": "https://localhost:8080/",
          "height": 206
        },
        "outputId": "f90bf760-7605-40c3-dc2e-dc937d86e7b0"
      },
      "execution_count": null,
      "outputs": [
        {
          "output_type": "execute_result",
          "data": {
            "text/plain": [
              "  date_weekly _ItemNumber     Q\n",
              "0  2016-07-05  BGLEA-RVIL   8.0\n",
              "1  2016-07-05  BGLEA-RVIL  20.0\n",
              "2  2016-07-12  BGLEA-RVIL   8.0\n",
              "3  2016-07-12  BGLEA-RVIL  12.0\n",
              "4  2016-07-19  BGLEA-RVIL   4.0"
            ],
            "text/html": [
              "\n",
              "  <div id=\"df-9bfd924a-2863-424a-92c1-df0e9751bc60\">\n",
              "    <div class=\"colab-df-container\">\n",
              "      <div>\n",
              "<style scoped>\n",
              "    .dataframe tbody tr th:only-of-type {\n",
              "        vertical-align: middle;\n",
              "    }\n",
              "\n",
              "    .dataframe tbody tr th {\n",
              "        vertical-align: top;\n",
              "    }\n",
              "\n",
              "    .dataframe thead th {\n",
              "        text-align: right;\n",
              "    }\n",
              "</style>\n",
              "<table border=\"1\" class=\"dataframe\">\n",
              "  <thead>\n",
              "    <tr style=\"text-align: right;\">\n",
              "      <th></th>\n",
              "      <th>date_weekly</th>\n",
              "      <th>_ItemNumber</th>\n",
              "      <th>Q</th>\n",
              "    </tr>\n",
              "  </thead>\n",
              "  <tbody>\n",
              "    <tr>\n",
              "      <th>0</th>\n",
              "      <td>2016-07-05</td>\n",
              "      <td>BGLEA-RVIL</td>\n",
              "      <td>8.0</td>\n",
              "    </tr>\n",
              "    <tr>\n",
              "      <th>1</th>\n",
              "      <td>2016-07-05</td>\n",
              "      <td>BGLEA-RVIL</td>\n",
              "      <td>20.0</td>\n",
              "    </tr>\n",
              "    <tr>\n",
              "      <th>2</th>\n",
              "      <td>2016-07-12</td>\n",
              "      <td>BGLEA-RVIL</td>\n",
              "      <td>8.0</td>\n",
              "    </tr>\n",
              "    <tr>\n",
              "      <th>3</th>\n",
              "      <td>2016-07-12</td>\n",
              "      <td>BGLEA-RVIL</td>\n",
              "      <td>12.0</td>\n",
              "    </tr>\n",
              "    <tr>\n",
              "      <th>4</th>\n",
              "      <td>2016-07-19</td>\n",
              "      <td>BGLEA-RVIL</td>\n",
              "      <td>4.0</td>\n",
              "    </tr>\n",
              "  </tbody>\n",
              "</table>\n",
              "</div>\n",
              "      <button class=\"colab-df-convert\" onclick=\"convertToInteractive('df-9bfd924a-2863-424a-92c1-df0e9751bc60')\"\n",
              "              title=\"Convert this dataframe to an interactive table.\"\n",
              "              style=\"display:none;\">\n",
              "        \n",
              "  <svg xmlns=\"http://www.w3.org/2000/svg\" height=\"24px\"viewBox=\"0 0 24 24\"\n",
              "       width=\"24px\">\n",
              "    <path d=\"M0 0h24v24H0V0z\" fill=\"none\"/>\n",
              "    <path d=\"M18.56 5.44l.94 2.06.94-2.06 2.06-.94-2.06-.94-.94-2.06-.94 2.06-2.06.94zm-11 1L8.5 8.5l.94-2.06 2.06-.94-2.06-.94L8.5 2.5l-.94 2.06-2.06.94zm10 10l.94 2.06.94-2.06 2.06-.94-2.06-.94-.94-2.06-.94 2.06-2.06.94z\"/><path d=\"M17.41 7.96l-1.37-1.37c-.4-.4-.92-.59-1.43-.59-.52 0-1.04.2-1.43.59L10.3 9.45l-7.72 7.72c-.78.78-.78 2.05 0 2.83L4 21.41c.39.39.9.59 1.41.59.51 0 1.02-.2 1.41-.59l7.78-7.78 2.81-2.81c.8-.78.8-2.07 0-2.86zM5.41 20L4 18.59l7.72-7.72 1.47 1.35L5.41 20z\"/>\n",
              "  </svg>\n",
              "      </button>\n",
              "      \n",
              "  <style>\n",
              "    .colab-df-container {\n",
              "      display:flex;\n",
              "      flex-wrap:wrap;\n",
              "      gap: 12px;\n",
              "    }\n",
              "\n",
              "    .colab-df-convert {\n",
              "      background-color: #E8F0FE;\n",
              "      border: none;\n",
              "      border-radius: 50%;\n",
              "      cursor: pointer;\n",
              "      display: none;\n",
              "      fill: #1967D2;\n",
              "      height: 32px;\n",
              "      padding: 0 0 0 0;\n",
              "      width: 32px;\n",
              "    }\n",
              "\n",
              "    .colab-df-convert:hover {\n",
              "      background-color: #E2EBFA;\n",
              "      box-shadow: 0px 1px 2px rgba(60, 64, 67, 0.3), 0px 1px 3px 1px rgba(60, 64, 67, 0.15);\n",
              "      fill: #174EA6;\n",
              "    }\n",
              "\n",
              "    [theme=dark] .colab-df-convert {\n",
              "      background-color: #3B4455;\n",
              "      fill: #D2E3FC;\n",
              "    }\n",
              "\n",
              "    [theme=dark] .colab-df-convert:hover {\n",
              "      background-color: #434B5C;\n",
              "      box-shadow: 0px 1px 3px 1px rgba(0, 0, 0, 0.15);\n",
              "      filter: drop-shadow(0px 1px 2px rgba(0, 0, 0, 0.3));\n",
              "      fill: #FFFFFF;\n",
              "    }\n",
              "  </style>\n",
              "\n",
              "      <script>\n",
              "        const buttonEl =\n",
              "          document.querySelector('#df-9bfd924a-2863-424a-92c1-df0e9751bc60 button.colab-df-convert');\n",
              "        buttonEl.style.display =\n",
              "          google.colab.kernel.accessAllowed ? 'block' : 'none';\n",
              "\n",
              "        async function convertToInteractive(key) {\n",
              "          const element = document.querySelector('#df-9bfd924a-2863-424a-92c1-df0e9751bc60');\n",
              "          const dataTable =\n",
              "            await google.colab.kernel.invokeFunction('convertToInteractive',\n",
              "                                                     [key], {});\n",
              "          if (!dataTable) return;\n",
              "\n",
              "          const docLinkHtml = 'Like what you see? Visit the ' +\n",
              "            '<a target=\"_blank\" href=https://colab.research.google.com/notebooks/data_table.ipynb>data table notebook</a>'\n",
              "            + ' to learn more about interactive tables.';\n",
              "          element.innerHTML = '';\n",
              "          dataTable['output_type'] = 'display_data';\n",
              "          await google.colab.output.renderOutput(dataTable, element);\n",
              "          const docLink = document.createElement('div');\n",
              "          docLink.innerHTML = docLinkHtml;\n",
              "          element.appendChild(docLink);\n",
              "        }\n",
              "      </script>\n",
              "    </div>\n",
              "  </div>\n",
              "  "
            ]
          },
          "metadata": {},
          "execution_count": 7
        }
      ]
    },
    {
      "cell_type": "code",
      "source": [
        "len(original_data._ItemNumber.unique())"
      ],
      "metadata": {
        "colab": {
          "base_uri": "https://localhost:8080/"
        },
        "id": "mZQcrHFqRfUn",
        "outputId": "c212db26-2db7-4a41-9b82-b5c762de0d38"
      },
      "execution_count": null,
      "outputs": [
        {
          "output_type": "execute_result",
          "data": {
            "text/plain": [
              "234"
            ]
          },
          "metadata": {},
          "execution_count": 8
        }
      ]
    },
    {
      "cell_type": "code",
      "source": [
        "# Check that we have all the SKUs \n",
        "unique_item_numbers_forecasting = set(forecasting_data[\"_ItemNumber\"].unique())\n",
        "unique_item_numbers_original = set(original_data[\"_ItemNumber\"].unique())\n",
        "\n",
        "missing_item_numbers = unique_item_numbers_original.difference(unique_item_numbers_forecasting)\n",
        "\n",
        "print(\"Missing item numbers in forecasting_data:\")\n",
        "print(missing_item_numbers)\n"
      ],
      "metadata": {
        "colab": {
          "base_uri": "https://localhost:8080/"
        },
        "id": "R1Wozf2gTeTA",
        "outputId": "ca1e0614-abce-41ae-bf3a-6f94ee6f9f24"
      },
      "execution_count": null,
      "outputs": [
        {
          "output_type": "stream",
          "name": "stdout",
          "text": [
            "Missing item numbers in forecasting_data:\n",
            "set()\n"
          ]
        }
      ]
    },
    {
      "cell_type": "code",
      "source": [
        "# Add missing columns to both DataFrames with NaN values\n",
        "#forecasting_data[\"Q\"] = np.nan\n",
        "forecasting_data[\"Q\"] = np.nan\n",
        "original_data[\"Model\"] = np.nan\n",
        "original_data[\"Forecast\"] = np.nan\n",
        "original_data[\"ConfInt_lower\"] = np.nan\n",
        "original_data[\"ConfInt_upper\"] = np.nan\n",
        "original_data[\"train_test_RMSE\"] = np.nan\n",
        "# Append the DataFrames\n",
        "result = forecasting_data.append(original_data, ignore_index=True)\n",
        "\n",
        "#result = forecasting_data_test.append(original_data, ignore_index=True)\n"
      ],
      "metadata": {
        "colab": {
          "base_uri": "https://localhost:8080/"
        },
        "id": "mg-z5XCSCicT",
        "outputId": "d8608297-1622-4831-b995-08210fb7b5bb"
      },
      "execution_count": null,
      "outputs": [
        {
          "output_type": "stream",
          "name": "stderr",
          "text": [
            "<ipython-input-11-cf36a704f5de>:10: FutureWarning: The frame.append method is deprecated and will be removed from pandas in a future version. Use pandas.concat instead.\n",
            "  result = forecasting_data.append(original_data, ignore_index=True)\n"
          ]
        }
      ]
    },
    {
      "cell_type": "code",
      "source": [
        "result['Merged'] = result['Q'].fillna(result['Forecast'])"
      ],
      "metadata": {
        "id": "g207Ay8QFVu4"
      },
      "execution_count": null,
      "outputs": []
    },
    {
      "cell_type": "code",
      "source": [
        "result[\"date_weekly\"] = pd.to_datetime(result[\"date_weekly\"])"
      ],
      "metadata": {
        "id": "hrSQN7C7AHLl"
      },
      "execution_count": null,
      "outputs": []
    },
    {
      "cell_type": "code",
      "source": [
        "result[\"Model\"].value_counts()"
      ],
      "metadata": {
        "colab": {
          "base_uri": "https://localhost:8080/"
        },
        "id": "d9Lnv6lPRLPW",
        "outputId": "ece20a59-fc18-4637-b295-ed166d3a1505"
      },
      "execution_count": null,
      "outputs": [
        {
          "output_type": "execute_result",
          "data": {
            "text/plain": [
              "LSTM          3505\n",
              "EXP SMOOTH     875\n",
              "ARIMA          725\n",
              "XGBOOST        700\n",
              "Name: Model, dtype: int64"
            ]
          },
          "metadata": {},
          "execution_count": 15
        }
      ]
    },
    {
      "cell_type": "code",
      "source": [
        "rmse_stat=forecasting_data[forecasting_data[\"train_test_RMSE\"]<1000]"
      ],
      "metadata": {
        "id": "Z8bC1yynArht"
      },
      "execution_count": null,
      "outputs": []
    },
    {
      "cell_type": "code",
      "source": [
        "rmse_stat[\"train_test_RMSE\"].describe()"
      ],
      "metadata": {
        "colab": {
          "base_uri": "https://localhost:8080/"
        },
        "id": "fOTa4WlC_6Nn",
        "outputId": "1166737b-ae4c-4b56-f826-89fa3d29826e"
      },
      "execution_count": null,
      "outputs": [
        {
          "output_type": "execute_result",
          "data": {
            "text/plain": [
              "count    5555.000000\n",
              "mean      113.938151\n",
              "std       145.636210\n",
              "min         0.136812\n",
              "25%        16.173032\n",
              "50%        69.655192\n",
              "75%       146.521114\n",
              "max       934.383027\n",
              "Name: train_test_RMSE, dtype: float64"
            ]
          },
          "metadata": {},
          "execution_count": 18
        }
      ]
    },
    {
      "cell_type": "code",
      "source": [
        "len(rmse_stat)"
      ],
      "metadata": {
        "colab": {
          "base_uri": "https://localhost:8080/"
        },
        "id": "yYqMUENxCfY7",
        "outputId": "b3cbbae6-31f3-407b-8959-35f9e1551136"
      },
      "execution_count": null,
      "outputs": [
        {
          "output_type": "execute_result",
          "data": {
            "text/plain": [
              "5555"
            ]
          },
          "metadata": {},
          "execution_count": 19
        }
      ]
    },
    {
      "cell_type": "markdown",
      "source": [
        "## Color palette"
      ],
      "metadata": {
        "id": "ci-vjk-eLYCe"
      }
    },
    {
      "cell_type": "code",
      "source": [
        "def assign_colors(unique_values, palette):\n",
        "    color_mapping = {}\n",
        "    num_colors = len(palette)\n",
        "\n",
        "    for idx, value in enumerate(unique_values):\n",
        "        color_mapping[value] = palette[idx % num_colors]\n",
        "\n",
        "    return color_mapping"
      ],
      "metadata": {
        "id": "pfKnSpWqEO5u"
      },
      "execution_count": null,
      "outputs": []
    },
    {
      "cell_type": "code",
      "source": [
        "color_palette = [\n",
        "    'rgba(41, 57, 71, 1)',\n",
        "    'rgba(128, 128, 128, 1)',\n",
        "    'rgba(93, 112, 127, 1)',\n",
        "    'rgba(155, 170, 181, 1)',\n",
        "    'rgba(80, 177, 200, 100)','rgba(154, 177, 197, 100)',\n",
        "    'rgba(133, 173, 219, 100)','rgba(28, 59, 95, 100)',\n",
        "    'rgba(40, 109, 125, 100)','rgba(23, 63, 73, 100)',\n",
        "    'rgba(70, 115, 171, 100)'\n",
        "\n",
        "]"
      ],
      "metadata": {
        "id": "0-TmFPOWEhVA"
      },
      "execution_count": null,
      "outputs": []
    },
    {
      "cell_type": "markdown",
      "source": [
        "# Evaluation "
      ],
      "metadata": {
        "id": "IZNDJ4Bwl6Wk"
      }
    },
    {
      "cell_type": "markdown",
      "source": [
        "## Distribution of RMSE scores"
      ],
      "metadata": {
        "id": "bpWYwko9LqkD"
      }
    },
    {
      "cell_type": "code",
      "source": [
        "ranges = [0, 50, 100, 150, 200, 250, 300,  float(\"inf\")]\n",
        "labels = ['[0-50]', '[51-100]', '[101-150]', '[151-200]','[201-250]','[251-300]','[above 300]']\n",
        "customer_total_q = forecasting_data.groupby('_ItemNumber')['train_test_RMSE'].mean().reset_index()\n",
        "customer_total_q['range'] = pd.cut(customer_total_q['train_test_RMSE'], bins=ranges, labels=labels, include_lowest=True)\n",
        "total_customers_by_range = customer_total_q['range'].value_counts().sort_index()\n",
        "\n",
        "# Create a DataFrame from the total_customers_by_range_value Series\n",
        "total_customers_by_range_df = total_customers_by_range.reset_index()\n",
        "total_customers_by_range_df.columns = ['Range', 'Count']\n",
        "\n",
        "# Assign colors \n",
        "unique_ranges = total_customers_by_range_df['Range'].unique()\n",
        "range_color_mapping = assign_colors(unique_ranges, color_palette)\n",
        "\n",
        "fig = px.bar(total_customers_by_range_df, x='Range', y='Count', color='Range', color_discrete_map=range_color_mapping)\n",
        "\n",
        "fig.update_traces(\n",
        "    texttemplate='%{y:,.0f}', text=total_customers_by_range.values,\n",
        "    textposition='outside',\n",
        "    textfont=dict(size=14, color='black', family='Arial')\n",
        ")\n",
        "\n",
        "fig.update_layout(plot_bgcolor='rgba(0,0,0,0)')\n",
        "fig.update_layout(yaxis_title=\"Count\")\n",
        "fig.update_layout(xaxis_title=\"Range\")\n",
        "fig.update_layout(title_text=\"Distribution of RMSE results on all SKUs\", title_x=0.5)\n",
        "fig.show()"
      ],
      "metadata": {
        "colab": {
          "base_uri": "https://localhost:8080/",
          "height": 542
        },
        "id": "fl_2XVXkDB4S",
        "outputId": "90d8c19e-7d2d-48aa-8eb0-8fc7482aed77"
      },
      "execution_count": null,
      "outputs": [
        {
          "output_type": "display_data",
          "data": {
            "text/html": [
              "<html>\n",
              "<head><meta charset=\"utf-8\" /></head>\n",
              "<body>\n",
              "    <div>            <script src=\"https://cdnjs.cloudflare.com/ajax/libs/mathjax/2.7.5/MathJax.js?config=TeX-AMS-MML_SVG\"></script><script type=\"text/javascript\">if (window.MathJax && window.MathJax.Hub && window.MathJax.Hub.Config) {window.MathJax.Hub.Config({SVG: {font: \"STIX-Web\"}});}</script>                <script type=\"text/javascript\">window.PlotlyConfig = {MathJaxConfig: 'local'};</script>\n",
              "        <script src=\"https://cdn.plot.ly/plotly-2.18.2.min.js\"></script>                <div id=\"89ce8954-9ab6-4ad0-8cdf-ffccb6c119ad\" class=\"plotly-graph-div\" style=\"height:525px; width:100%;\"></div>            <script type=\"text/javascript\">                                    window.PLOTLYENV=window.PLOTLYENV || {};                                    if (document.getElementById(\"89ce8954-9ab6-4ad0-8cdf-ffccb6c119ad\")) {                    Plotly.newPlot(                        \"89ce8954-9ab6-4ad0-8cdf-ffccb6c119ad\",                        [{\"alignmentgroup\":\"True\",\"hovertemplate\":\"Range=%{x}<br>Count=%{y}<extra></extra>\",\"legendgroup\":\"[0-50]\",\"marker\":{\"color\":\"rgba(41, 57, 71, 1)\",\"pattern\":{\"shape\":\"\"}},\"name\":\"[0-50]\",\"offsetgroup\":\"[0-50]\",\"orientation\":\"v\",\"showlegend\":true,\"textposition\":\"outside\",\"x\":[\"[0-50]\"],\"xaxis\":\"x\",\"y\":[105],\"yaxis\":\"y\",\"type\":\"bar\",\"textfont\":{\"color\":\"black\",\"family\":\"Arial\",\"size\":14},\"text\":[105.0,28.0,37.0,17.0,14.0,5.0,28.0],\"texttemplate\":\"%{y:,.0f}\"},{\"alignmentgroup\":\"True\",\"hovertemplate\":\"Range=%{x}<br>Count=%{y}<extra></extra>\",\"legendgroup\":\"[51-100]\",\"marker\":{\"color\":\"rgba(128, 128, 128, 1)\",\"pattern\":{\"shape\":\"\"}},\"name\":\"[51-100]\",\"offsetgroup\":\"[51-100]\",\"orientation\":\"v\",\"showlegend\":true,\"textposition\":\"outside\",\"x\":[\"[51-100]\"],\"xaxis\":\"x\",\"y\":[28],\"yaxis\":\"y\",\"type\":\"bar\",\"textfont\":{\"color\":\"black\",\"family\":\"Arial\",\"size\":14},\"text\":[105.0,28.0,37.0,17.0,14.0,5.0,28.0],\"texttemplate\":\"%{y:,.0f}\"},{\"alignmentgroup\":\"True\",\"hovertemplate\":\"Range=%{x}<br>Count=%{y}<extra></extra>\",\"legendgroup\":\"[101-150]\",\"marker\":{\"color\":\"rgba(93, 112, 127, 1)\",\"pattern\":{\"shape\":\"\"}},\"name\":\"[101-150]\",\"offsetgroup\":\"[101-150]\",\"orientation\":\"v\",\"showlegend\":true,\"textposition\":\"outside\",\"x\":[\"[101-150]\"],\"xaxis\":\"x\",\"y\":[37],\"yaxis\":\"y\",\"type\":\"bar\",\"textfont\":{\"color\":\"black\",\"family\":\"Arial\",\"size\":14},\"text\":[105.0,28.0,37.0,17.0,14.0,5.0,28.0],\"texttemplate\":\"%{y:,.0f}\"},{\"alignmentgroup\":\"True\",\"hovertemplate\":\"Range=%{x}<br>Count=%{y}<extra></extra>\",\"legendgroup\":\"[151-200]\",\"marker\":{\"color\":\"rgba(155, 170, 181, 1)\",\"pattern\":{\"shape\":\"\"}},\"name\":\"[151-200]\",\"offsetgroup\":\"[151-200]\",\"orientation\":\"v\",\"showlegend\":true,\"textposition\":\"outside\",\"x\":[\"[151-200]\"],\"xaxis\":\"x\",\"y\":[17],\"yaxis\":\"y\",\"type\":\"bar\",\"textfont\":{\"color\":\"black\",\"family\":\"Arial\",\"size\":14},\"text\":[105.0,28.0,37.0,17.0,14.0,5.0,28.0],\"texttemplate\":\"%{y:,.0f}\"},{\"alignmentgroup\":\"True\",\"hovertemplate\":\"Range=%{x}<br>Count=%{y}<extra></extra>\",\"legendgroup\":\"[201-250]\",\"marker\":{\"color\":\"rgba(80, 177, 200, 100)\",\"pattern\":{\"shape\":\"\"}},\"name\":\"[201-250]\",\"offsetgroup\":\"[201-250]\",\"orientation\":\"v\",\"showlegend\":true,\"textposition\":\"outside\",\"x\":[\"[201-250]\"],\"xaxis\":\"x\",\"y\":[14],\"yaxis\":\"y\",\"type\":\"bar\",\"textfont\":{\"color\":\"black\",\"family\":\"Arial\",\"size\":14},\"text\":[105.0,28.0,37.0,17.0,14.0,5.0,28.0],\"texttemplate\":\"%{y:,.0f}\"},{\"alignmentgroup\":\"True\",\"hovertemplate\":\"Range=%{x}<br>Count=%{y}<extra></extra>\",\"legendgroup\":\"[251-300]\",\"marker\":{\"color\":\"rgba(154, 177, 197, 100)\",\"pattern\":{\"shape\":\"\"}},\"name\":\"[251-300]\",\"offsetgroup\":\"[251-300]\",\"orientation\":\"v\",\"showlegend\":true,\"textposition\":\"outside\",\"x\":[\"[251-300]\"],\"xaxis\":\"x\",\"y\":[5],\"yaxis\":\"y\",\"type\":\"bar\",\"textfont\":{\"color\":\"black\",\"family\":\"Arial\",\"size\":14},\"text\":[105.0,28.0,37.0,17.0,14.0,5.0,28.0],\"texttemplate\":\"%{y:,.0f}\"},{\"alignmentgroup\":\"True\",\"hovertemplate\":\"Range=%{x}<br>Count=%{y}<extra></extra>\",\"legendgroup\":\"[above 300]\",\"marker\":{\"color\":\"rgba(133, 173, 219, 100)\",\"pattern\":{\"shape\":\"\"}},\"name\":\"[above 300]\",\"offsetgroup\":\"[above 300]\",\"orientation\":\"v\",\"showlegend\":true,\"textposition\":\"outside\",\"x\":[\"[above 300]\"],\"xaxis\":\"x\",\"y\":[28],\"yaxis\":\"y\",\"type\":\"bar\",\"textfont\":{\"color\":\"black\",\"family\":\"Arial\",\"size\":14},\"text\":[105.0,28.0,37.0,17.0,14.0,5.0,28.0],\"texttemplate\":\"%{y:,.0f}\"}],                        {\"template\":{\"data\":{\"histogram2dcontour\":[{\"type\":\"histogram2dcontour\",\"colorbar\":{\"outlinewidth\":0,\"ticks\":\"\"},\"colorscale\":[[0.0,\"#0d0887\"],[0.1111111111111111,\"#46039f\"],[0.2222222222222222,\"#7201a8\"],[0.3333333333333333,\"#9c179e\"],[0.4444444444444444,\"#bd3786\"],[0.5555555555555556,\"#d8576b\"],[0.6666666666666666,\"#ed7953\"],[0.7777777777777778,\"#fb9f3a\"],[0.8888888888888888,\"#fdca26\"],[1.0,\"#f0f921\"]]}],\"choropleth\":[{\"type\":\"choropleth\",\"colorbar\":{\"outlinewidth\":0,\"ticks\":\"\"}}],\"histogram2d\":[{\"type\":\"histogram2d\",\"colorbar\":{\"outlinewidth\":0,\"ticks\":\"\"},\"colorscale\":[[0.0,\"#0d0887\"],[0.1111111111111111,\"#46039f\"],[0.2222222222222222,\"#7201a8\"],[0.3333333333333333,\"#9c179e\"],[0.4444444444444444,\"#bd3786\"],[0.5555555555555556,\"#d8576b\"],[0.6666666666666666,\"#ed7953\"],[0.7777777777777778,\"#fb9f3a\"],[0.8888888888888888,\"#fdca26\"],[1.0,\"#f0f921\"]]}],\"heatmap\":[{\"type\":\"heatmap\",\"colorbar\":{\"outlinewidth\":0,\"ticks\":\"\"},\"colorscale\":[[0.0,\"#0d0887\"],[0.1111111111111111,\"#46039f\"],[0.2222222222222222,\"#7201a8\"],[0.3333333333333333,\"#9c179e\"],[0.4444444444444444,\"#bd3786\"],[0.5555555555555556,\"#d8576b\"],[0.6666666666666666,\"#ed7953\"],[0.7777777777777778,\"#fb9f3a\"],[0.8888888888888888,\"#fdca26\"],[1.0,\"#f0f921\"]]}],\"heatmapgl\":[{\"type\":\"heatmapgl\",\"colorbar\":{\"outlinewidth\":0,\"ticks\":\"\"},\"colorscale\":[[0.0,\"#0d0887\"],[0.1111111111111111,\"#46039f\"],[0.2222222222222222,\"#7201a8\"],[0.3333333333333333,\"#9c179e\"],[0.4444444444444444,\"#bd3786\"],[0.5555555555555556,\"#d8576b\"],[0.6666666666666666,\"#ed7953\"],[0.7777777777777778,\"#fb9f3a\"],[0.8888888888888888,\"#fdca26\"],[1.0,\"#f0f921\"]]}],\"contourcarpet\":[{\"type\":\"contourcarpet\",\"colorbar\":{\"outlinewidth\":0,\"ticks\":\"\"}}],\"contour\":[{\"type\":\"contour\",\"colorbar\":{\"outlinewidth\":0,\"ticks\":\"\"},\"colorscale\":[[0.0,\"#0d0887\"],[0.1111111111111111,\"#46039f\"],[0.2222222222222222,\"#7201a8\"],[0.3333333333333333,\"#9c179e\"],[0.4444444444444444,\"#bd3786\"],[0.5555555555555556,\"#d8576b\"],[0.6666666666666666,\"#ed7953\"],[0.7777777777777778,\"#fb9f3a\"],[0.8888888888888888,\"#fdca26\"],[1.0,\"#f0f921\"]]}],\"surface\":[{\"type\":\"surface\",\"colorbar\":{\"outlinewidth\":0,\"ticks\":\"\"},\"colorscale\":[[0.0,\"#0d0887\"],[0.1111111111111111,\"#46039f\"],[0.2222222222222222,\"#7201a8\"],[0.3333333333333333,\"#9c179e\"],[0.4444444444444444,\"#bd3786\"],[0.5555555555555556,\"#d8576b\"],[0.6666666666666666,\"#ed7953\"],[0.7777777777777778,\"#fb9f3a\"],[0.8888888888888888,\"#fdca26\"],[1.0,\"#f0f921\"]]}],\"mesh3d\":[{\"type\":\"mesh3d\",\"colorbar\":{\"outlinewidth\":0,\"ticks\":\"\"}}],\"scatter\":[{\"fillpattern\":{\"fillmode\":\"overlay\",\"size\":10,\"solidity\":0.2},\"type\":\"scatter\"}],\"parcoords\":[{\"type\":\"parcoords\",\"line\":{\"colorbar\":{\"outlinewidth\":0,\"ticks\":\"\"}}}],\"scatterpolargl\":[{\"type\":\"scatterpolargl\",\"marker\":{\"colorbar\":{\"outlinewidth\":0,\"ticks\":\"\"}}}],\"bar\":[{\"error_x\":{\"color\":\"#2a3f5f\"},\"error_y\":{\"color\":\"#2a3f5f\"},\"marker\":{\"line\":{\"color\":\"#E5ECF6\",\"width\":0.5},\"pattern\":{\"fillmode\":\"overlay\",\"size\":10,\"solidity\":0.2}},\"type\":\"bar\"}],\"scattergeo\":[{\"type\":\"scattergeo\",\"marker\":{\"colorbar\":{\"outlinewidth\":0,\"ticks\":\"\"}}}],\"scatterpolar\":[{\"type\":\"scatterpolar\",\"marker\":{\"colorbar\":{\"outlinewidth\":0,\"ticks\":\"\"}}}],\"histogram\":[{\"marker\":{\"pattern\":{\"fillmode\":\"overlay\",\"size\":10,\"solidity\":0.2}},\"type\":\"histogram\"}],\"scattergl\":[{\"type\":\"scattergl\",\"marker\":{\"colorbar\":{\"outlinewidth\":0,\"ticks\":\"\"}}}],\"scatter3d\":[{\"type\":\"scatter3d\",\"line\":{\"colorbar\":{\"outlinewidth\":0,\"ticks\":\"\"}},\"marker\":{\"colorbar\":{\"outlinewidth\":0,\"ticks\":\"\"}}}],\"scattermapbox\":[{\"type\":\"scattermapbox\",\"marker\":{\"colorbar\":{\"outlinewidth\":0,\"ticks\":\"\"}}}],\"scatterternary\":[{\"type\":\"scatterternary\",\"marker\":{\"colorbar\":{\"outlinewidth\":0,\"ticks\":\"\"}}}],\"scattercarpet\":[{\"type\":\"scattercarpet\",\"marker\":{\"colorbar\":{\"outlinewidth\":0,\"ticks\":\"\"}}}],\"carpet\":[{\"aaxis\":{\"endlinecolor\":\"#2a3f5f\",\"gridcolor\":\"white\",\"linecolor\":\"white\",\"minorgridcolor\":\"white\",\"startlinecolor\":\"#2a3f5f\"},\"baxis\":{\"endlinecolor\":\"#2a3f5f\",\"gridcolor\":\"white\",\"linecolor\":\"white\",\"minorgridcolor\":\"white\",\"startlinecolor\":\"#2a3f5f\"},\"type\":\"carpet\"}],\"table\":[{\"cells\":{\"fill\":{\"color\":\"#EBF0F8\"},\"line\":{\"color\":\"white\"}},\"header\":{\"fill\":{\"color\":\"#C8D4E3\"},\"line\":{\"color\":\"white\"}},\"type\":\"table\"}],\"barpolar\":[{\"marker\":{\"line\":{\"color\":\"#E5ECF6\",\"width\":0.5},\"pattern\":{\"fillmode\":\"overlay\",\"size\":10,\"solidity\":0.2}},\"type\":\"barpolar\"}],\"pie\":[{\"automargin\":true,\"type\":\"pie\"}]},\"layout\":{\"autotypenumbers\":\"strict\",\"colorway\":[\"#636efa\",\"#EF553B\",\"#00cc96\",\"#ab63fa\",\"#FFA15A\",\"#19d3f3\",\"#FF6692\",\"#B6E880\",\"#FF97FF\",\"#FECB52\"],\"font\":{\"color\":\"#2a3f5f\"},\"hovermode\":\"closest\",\"hoverlabel\":{\"align\":\"left\"},\"paper_bgcolor\":\"white\",\"plot_bgcolor\":\"#E5ECF6\",\"polar\":{\"bgcolor\":\"#E5ECF6\",\"angularaxis\":{\"gridcolor\":\"white\",\"linecolor\":\"white\",\"ticks\":\"\"},\"radialaxis\":{\"gridcolor\":\"white\",\"linecolor\":\"white\",\"ticks\":\"\"}},\"ternary\":{\"bgcolor\":\"#E5ECF6\",\"aaxis\":{\"gridcolor\":\"white\",\"linecolor\":\"white\",\"ticks\":\"\"},\"baxis\":{\"gridcolor\":\"white\",\"linecolor\":\"white\",\"ticks\":\"\"},\"caxis\":{\"gridcolor\":\"white\",\"linecolor\":\"white\",\"ticks\":\"\"}},\"coloraxis\":{\"colorbar\":{\"outlinewidth\":0,\"ticks\":\"\"}},\"colorscale\":{\"sequential\":[[0.0,\"#0d0887\"],[0.1111111111111111,\"#46039f\"],[0.2222222222222222,\"#7201a8\"],[0.3333333333333333,\"#9c179e\"],[0.4444444444444444,\"#bd3786\"],[0.5555555555555556,\"#d8576b\"],[0.6666666666666666,\"#ed7953\"],[0.7777777777777778,\"#fb9f3a\"],[0.8888888888888888,\"#fdca26\"],[1.0,\"#f0f921\"]],\"sequentialminus\":[[0.0,\"#0d0887\"],[0.1111111111111111,\"#46039f\"],[0.2222222222222222,\"#7201a8\"],[0.3333333333333333,\"#9c179e\"],[0.4444444444444444,\"#bd3786\"],[0.5555555555555556,\"#d8576b\"],[0.6666666666666666,\"#ed7953\"],[0.7777777777777778,\"#fb9f3a\"],[0.8888888888888888,\"#fdca26\"],[1.0,\"#f0f921\"]],\"diverging\":[[0,\"#8e0152\"],[0.1,\"#c51b7d\"],[0.2,\"#de77ae\"],[0.3,\"#f1b6da\"],[0.4,\"#fde0ef\"],[0.5,\"#f7f7f7\"],[0.6,\"#e6f5d0\"],[0.7,\"#b8e186\"],[0.8,\"#7fbc41\"],[0.9,\"#4d9221\"],[1,\"#276419\"]]},\"xaxis\":{\"gridcolor\":\"white\",\"linecolor\":\"white\",\"ticks\":\"\",\"title\":{\"standoff\":15},\"zerolinecolor\":\"white\",\"automargin\":true,\"zerolinewidth\":2},\"yaxis\":{\"gridcolor\":\"white\",\"linecolor\":\"white\",\"ticks\":\"\",\"title\":{\"standoff\":15},\"zerolinecolor\":\"white\",\"automargin\":true,\"zerolinewidth\":2},\"scene\":{\"xaxis\":{\"backgroundcolor\":\"#E5ECF6\",\"gridcolor\":\"white\",\"linecolor\":\"white\",\"showbackground\":true,\"ticks\":\"\",\"zerolinecolor\":\"white\",\"gridwidth\":2},\"yaxis\":{\"backgroundcolor\":\"#E5ECF6\",\"gridcolor\":\"white\",\"linecolor\":\"white\",\"showbackground\":true,\"ticks\":\"\",\"zerolinecolor\":\"white\",\"gridwidth\":2},\"zaxis\":{\"backgroundcolor\":\"#E5ECF6\",\"gridcolor\":\"white\",\"linecolor\":\"white\",\"showbackground\":true,\"ticks\":\"\",\"zerolinecolor\":\"white\",\"gridwidth\":2}},\"shapedefaults\":{\"line\":{\"color\":\"#2a3f5f\"}},\"annotationdefaults\":{\"arrowcolor\":\"#2a3f5f\",\"arrowhead\":0,\"arrowwidth\":1},\"geo\":{\"bgcolor\":\"white\",\"landcolor\":\"#E5ECF6\",\"subunitcolor\":\"white\",\"showland\":true,\"showlakes\":true,\"lakecolor\":\"white\"},\"title\":{\"x\":0.05},\"mapbox\":{\"style\":\"light\"}}},\"xaxis\":{\"anchor\":\"y\",\"domain\":[0.0,1.0],\"title\":{\"text\":\"Range\"},\"categoryorder\":\"array\",\"categoryarray\":[\"[0-50]\",\"[51-100]\",\"[101-150]\",\"[151-200]\",\"[201-250]\",\"[251-300]\",\"[above 300]\"]},\"yaxis\":{\"anchor\":\"x\",\"domain\":[0.0,1.0],\"title\":{\"text\":\"Count\"}},\"legend\":{\"title\":{\"text\":\"Range\"},\"tracegroupgap\":0},\"margin\":{\"t\":60},\"barmode\":\"relative\",\"plot_bgcolor\":\"rgba(0,0,0,0)\",\"title\":{\"text\":\"Distribution of RMSE results on all SKUs\",\"x\":0.5}},                        {\"responsive\": true}                    ).then(function(){\n",
              "                            \n",
              "var gd = document.getElementById('89ce8954-9ab6-4ad0-8cdf-ffccb6c119ad');\n",
              "var x = new MutationObserver(function (mutations, observer) {{\n",
              "        var display = window.getComputedStyle(gd).display;\n",
              "        if (!display || display === 'none') {{\n",
              "            console.log([gd, 'removed!']);\n",
              "            Plotly.purge(gd);\n",
              "            observer.disconnect();\n",
              "        }}\n",
              "}});\n",
              "\n",
              "// Listen for the removal of the full notebook cells\n",
              "var notebookContainer = gd.closest('#notebook-container');\n",
              "if (notebookContainer) {{\n",
              "    x.observe(notebookContainer, {childList: true});\n",
              "}}\n",
              "\n",
              "// Listen for the clearing of the current output cell\n",
              "var outputEl = gd.closest('.output');\n",
              "if (outputEl) {{\n",
              "    x.observe(outputEl, {childList: true});\n",
              "}}\n",
              "\n",
              "                        })                };                            </script>        </div>\n",
              "</body>\n",
              "</html>"
            ]
          },
          "metadata": {}
        }
      ]
    },
    {
      "cell_type": "markdown",
      "source": [
        "## Distribution of best model"
      ],
      "metadata": {
        "id": "Jp4XJNkUMBDn"
      }
    },
    {
      "cell_type": "code",
      "source": [
        "model_count = forecasting_data.groupby('Model')['_ItemNumber'].nunique()\n",
        "model_count = model_count.sort_values(ascending=False)\n",
        "\n",
        "# Assign colors \n",
        "#color_mapping = assign_colors(model_count, color_palette)\n",
        "unique_ranges = model_count.index.unique()\n",
        "color_mapping = assign_colors(unique_ranges, color_palette)\n",
        "\n",
        "fig = px.bar(x=model_count.index, y=model_count.values,color=model_count.index,color_discrete_map=color_mapping)\n",
        "\n",
        "values=model_count.values\n",
        "\n",
        "fig.update_traces(\n",
        "    texttemplate='%{text:.2s}', text=values,\n",
        "    textposition='outside',\n",
        "    textfont=dict(size=14, color='black', family='Arial')\n",
        ")\n",
        "\n",
        "\n",
        "fig.update_layout(plot_bgcolor='rgba(0,0,0,0)')\n",
        "fig.update_layout(yaxis_title=\"Count\")\n",
        "fig.update_layout(xaxis_title=\"Model\")\n",
        "fig.update_layout(title_text=\"Distribution of the best model for each unique SKU\", title_x=0.5)\n",
        "fig.show()"
      ],
      "metadata": {
        "colab": {
          "base_uri": "https://localhost:8080/",
          "height": 542
        },
        "id": "fo2SQgfMHtyt",
        "outputId": "df0dea91-197a-4221-d184-3acc5453213f"
      },
      "execution_count": null,
      "outputs": [
        {
          "output_type": "display_data",
          "data": {
            "text/html": [
              "<html>\n",
              "<head><meta charset=\"utf-8\" /></head>\n",
              "<body>\n",
              "    <div>            <script src=\"https://cdnjs.cloudflare.com/ajax/libs/mathjax/2.7.5/MathJax.js?config=TeX-AMS-MML_SVG\"></script><script type=\"text/javascript\">if (window.MathJax && window.MathJax.Hub && window.MathJax.Hub.Config) {window.MathJax.Hub.Config({SVG: {font: \"STIX-Web\"}});}</script>                <script type=\"text/javascript\">window.PlotlyConfig = {MathJaxConfig: 'local'};</script>\n",
              "        <script src=\"https://cdn.plot.ly/plotly-2.18.2.min.js\"></script>                <div id=\"1dae9e4f-ffbb-4ac8-a3ef-894f9f993a36\" class=\"plotly-graph-div\" style=\"height:525px; width:100%;\"></div>            <script type=\"text/javascript\">                                    window.PLOTLYENV=window.PLOTLYENV || {};                                    if (document.getElementById(\"1dae9e4f-ffbb-4ac8-a3ef-894f9f993a36\")) {                    Plotly.newPlot(                        \"1dae9e4f-ffbb-4ac8-a3ef-894f9f993a36\",                        [{\"alignmentgroup\":\"True\",\"hovertemplate\":\"color=LSTM<br>x=%{x}<br>y=%{y}<extra></extra>\",\"legendgroup\":\"LSTM\",\"marker\":{\"color\":\"rgba(41, 57, 71, 1)\",\"pattern\":{\"shape\":\"\"}},\"name\":\"LSTM\",\"offsetgroup\":\"LSTM\",\"orientation\":\"v\",\"showlegend\":true,\"textposition\":\"outside\",\"x\":[\"LSTM\"],\"xaxis\":\"x\",\"y\":[142],\"yaxis\":\"y\",\"type\":\"bar\",\"textfont\":{\"color\":\"black\",\"family\":\"Arial\",\"size\":14},\"text\":[142.0,35.0,29.0,28.0],\"texttemplate\":\"%{text:.2s}\"},{\"alignmentgroup\":\"True\",\"hovertemplate\":\"color=EXP SMOOTH<br>x=%{x}<br>y=%{y}<extra></extra>\",\"legendgroup\":\"EXP SMOOTH\",\"marker\":{\"color\":\"rgba(128, 128, 128, 1)\",\"pattern\":{\"shape\":\"\"}},\"name\":\"EXP SMOOTH\",\"offsetgroup\":\"EXP SMOOTH\",\"orientation\":\"v\",\"showlegend\":true,\"textposition\":\"outside\",\"x\":[\"EXP SMOOTH\"],\"xaxis\":\"x\",\"y\":[35],\"yaxis\":\"y\",\"type\":\"bar\",\"textfont\":{\"color\":\"black\",\"family\":\"Arial\",\"size\":14},\"text\":[142.0,35.0,29.0,28.0],\"texttemplate\":\"%{text:.2s}\"},{\"alignmentgroup\":\"True\",\"hovertemplate\":\"color=ARIMA<br>x=%{x}<br>y=%{y}<extra></extra>\",\"legendgroup\":\"ARIMA\",\"marker\":{\"color\":\"rgba(93, 112, 127, 1)\",\"pattern\":{\"shape\":\"\"}},\"name\":\"ARIMA\",\"offsetgroup\":\"ARIMA\",\"orientation\":\"v\",\"showlegend\":true,\"textposition\":\"outside\",\"x\":[\"ARIMA\"],\"xaxis\":\"x\",\"y\":[29],\"yaxis\":\"y\",\"type\":\"bar\",\"textfont\":{\"color\":\"black\",\"family\":\"Arial\",\"size\":14},\"text\":[142.0,35.0,29.0,28.0],\"texttemplate\":\"%{text:.2s}\"},{\"alignmentgroup\":\"True\",\"hovertemplate\":\"color=XGBOOST<br>x=%{x}<br>y=%{y}<extra></extra>\",\"legendgroup\":\"XGBOOST\",\"marker\":{\"color\":\"rgba(155, 170, 181, 1)\",\"pattern\":{\"shape\":\"\"}},\"name\":\"XGBOOST\",\"offsetgroup\":\"XGBOOST\",\"orientation\":\"v\",\"showlegend\":true,\"textposition\":\"outside\",\"x\":[\"XGBOOST\"],\"xaxis\":\"x\",\"y\":[28],\"yaxis\":\"y\",\"type\":\"bar\",\"textfont\":{\"color\":\"black\",\"family\":\"Arial\",\"size\":14},\"text\":[142.0,35.0,29.0,28.0],\"texttemplate\":\"%{text:.2s}\"}],                        {\"template\":{\"data\":{\"histogram2dcontour\":[{\"type\":\"histogram2dcontour\",\"colorbar\":{\"outlinewidth\":0,\"ticks\":\"\"},\"colorscale\":[[0.0,\"#0d0887\"],[0.1111111111111111,\"#46039f\"],[0.2222222222222222,\"#7201a8\"],[0.3333333333333333,\"#9c179e\"],[0.4444444444444444,\"#bd3786\"],[0.5555555555555556,\"#d8576b\"],[0.6666666666666666,\"#ed7953\"],[0.7777777777777778,\"#fb9f3a\"],[0.8888888888888888,\"#fdca26\"],[1.0,\"#f0f921\"]]}],\"choropleth\":[{\"type\":\"choropleth\",\"colorbar\":{\"outlinewidth\":0,\"ticks\":\"\"}}],\"histogram2d\":[{\"type\":\"histogram2d\",\"colorbar\":{\"outlinewidth\":0,\"ticks\":\"\"},\"colorscale\":[[0.0,\"#0d0887\"],[0.1111111111111111,\"#46039f\"],[0.2222222222222222,\"#7201a8\"],[0.3333333333333333,\"#9c179e\"],[0.4444444444444444,\"#bd3786\"],[0.5555555555555556,\"#d8576b\"],[0.6666666666666666,\"#ed7953\"],[0.7777777777777778,\"#fb9f3a\"],[0.8888888888888888,\"#fdca26\"],[1.0,\"#f0f921\"]]}],\"heatmap\":[{\"type\":\"heatmap\",\"colorbar\":{\"outlinewidth\":0,\"ticks\":\"\"},\"colorscale\":[[0.0,\"#0d0887\"],[0.1111111111111111,\"#46039f\"],[0.2222222222222222,\"#7201a8\"],[0.3333333333333333,\"#9c179e\"],[0.4444444444444444,\"#bd3786\"],[0.5555555555555556,\"#d8576b\"],[0.6666666666666666,\"#ed7953\"],[0.7777777777777778,\"#fb9f3a\"],[0.8888888888888888,\"#fdca26\"],[1.0,\"#f0f921\"]]}],\"heatmapgl\":[{\"type\":\"heatmapgl\",\"colorbar\":{\"outlinewidth\":0,\"ticks\":\"\"},\"colorscale\":[[0.0,\"#0d0887\"],[0.1111111111111111,\"#46039f\"],[0.2222222222222222,\"#7201a8\"],[0.3333333333333333,\"#9c179e\"],[0.4444444444444444,\"#bd3786\"],[0.5555555555555556,\"#d8576b\"],[0.6666666666666666,\"#ed7953\"],[0.7777777777777778,\"#fb9f3a\"],[0.8888888888888888,\"#fdca26\"],[1.0,\"#f0f921\"]]}],\"contourcarpet\":[{\"type\":\"contourcarpet\",\"colorbar\":{\"outlinewidth\":0,\"ticks\":\"\"}}],\"contour\":[{\"type\":\"contour\",\"colorbar\":{\"outlinewidth\":0,\"ticks\":\"\"},\"colorscale\":[[0.0,\"#0d0887\"],[0.1111111111111111,\"#46039f\"],[0.2222222222222222,\"#7201a8\"],[0.3333333333333333,\"#9c179e\"],[0.4444444444444444,\"#bd3786\"],[0.5555555555555556,\"#d8576b\"],[0.6666666666666666,\"#ed7953\"],[0.7777777777777778,\"#fb9f3a\"],[0.8888888888888888,\"#fdca26\"],[1.0,\"#f0f921\"]]}],\"surface\":[{\"type\":\"surface\",\"colorbar\":{\"outlinewidth\":0,\"ticks\":\"\"},\"colorscale\":[[0.0,\"#0d0887\"],[0.1111111111111111,\"#46039f\"],[0.2222222222222222,\"#7201a8\"],[0.3333333333333333,\"#9c179e\"],[0.4444444444444444,\"#bd3786\"],[0.5555555555555556,\"#d8576b\"],[0.6666666666666666,\"#ed7953\"],[0.7777777777777778,\"#fb9f3a\"],[0.8888888888888888,\"#fdca26\"],[1.0,\"#f0f921\"]]}],\"mesh3d\":[{\"type\":\"mesh3d\",\"colorbar\":{\"outlinewidth\":0,\"ticks\":\"\"}}],\"scatter\":[{\"fillpattern\":{\"fillmode\":\"overlay\",\"size\":10,\"solidity\":0.2},\"type\":\"scatter\"}],\"parcoords\":[{\"type\":\"parcoords\",\"line\":{\"colorbar\":{\"outlinewidth\":0,\"ticks\":\"\"}}}],\"scatterpolargl\":[{\"type\":\"scatterpolargl\",\"marker\":{\"colorbar\":{\"outlinewidth\":0,\"ticks\":\"\"}}}],\"bar\":[{\"error_x\":{\"color\":\"#2a3f5f\"},\"error_y\":{\"color\":\"#2a3f5f\"},\"marker\":{\"line\":{\"color\":\"#E5ECF6\",\"width\":0.5},\"pattern\":{\"fillmode\":\"overlay\",\"size\":10,\"solidity\":0.2}},\"type\":\"bar\"}],\"scattergeo\":[{\"type\":\"scattergeo\",\"marker\":{\"colorbar\":{\"outlinewidth\":0,\"ticks\":\"\"}}}],\"scatterpolar\":[{\"type\":\"scatterpolar\",\"marker\":{\"colorbar\":{\"outlinewidth\":0,\"ticks\":\"\"}}}],\"histogram\":[{\"marker\":{\"pattern\":{\"fillmode\":\"overlay\",\"size\":10,\"solidity\":0.2}},\"type\":\"histogram\"}],\"scattergl\":[{\"type\":\"scattergl\",\"marker\":{\"colorbar\":{\"outlinewidth\":0,\"ticks\":\"\"}}}],\"scatter3d\":[{\"type\":\"scatter3d\",\"line\":{\"colorbar\":{\"outlinewidth\":0,\"ticks\":\"\"}},\"marker\":{\"colorbar\":{\"outlinewidth\":0,\"ticks\":\"\"}}}],\"scattermapbox\":[{\"type\":\"scattermapbox\",\"marker\":{\"colorbar\":{\"outlinewidth\":0,\"ticks\":\"\"}}}],\"scatterternary\":[{\"type\":\"scatterternary\",\"marker\":{\"colorbar\":{\"outlinewidth\":0,\"ticks\":\"\"}}}],\"scattercarpet\":[{\"type\":\"scattercarpet\",\"marker\":{\"colorbar\":{\"outlinewidth\":0,\"ticks\":\"\"}}}],\"carpet\":[{\"aaxis\":{\"endlinecolor\":\"#2a3f5f\",\"gridcolor\":\"white\",\"linecolor\":\"white\",\"minorgridcolor\":\"white\",\"startlinecolor\":\"#2a3f5f\"},\"baxis\":{\"endlinecolor\":\"#2a3f5f\",\"gridcolor\":\"white\",\"linecolor\":\"white\",\"minorgridcolor\":\"white\",\"startlinecolor\":\"#2a3f5f\"},\"type\":\"carpet\"}],\"table\":[{\"cells\":{\"fill\":{\"color\":\"#EBF0F8\"},\"line\":{\"color\":\"white\"}},\"header\":{\"fill\":{\"color\":\"#C8D4E3\"},\"line\":{\"color\":\"white\"}},\"type\":\"table\"}],\"barpolar\":[{\"marker\":{\"line\":{\"color\":\"#E5ECF6\",\"width\":0.5},\"pattern\":{\"fillmode\":\"overlay\",\"size\":10,\"solidity\":0.2}},\"type\":\"barpolar\"}],\"pie\":[{\"automargin\":true,\"type\":\"pie\"}]},\"layout\":{\"autotypenumbers\":\"strict\",\"colorway\":[\"#636efa\",\"#EF553B\",\"#00cc96\",\"#ab63fa\",\"#FFA15A\",\"#19d3f3\",\"#FF6692\",\"#B6E880\",\"#FF97FF\",\"#FECB52\"],\"font\":{\"color\":\"#2a3f5f\"},\"hovermode\":\"closest\",\"hoverlabel\":{\"align\":\"left\"},\"paper_bgcolor\":\"white\",\"plot_bgcolor\":\"#E5ECF6\",\"polar\":{\"bgcolor\":\"#E5ECF6\",\"angularaxis\":{\"gridcolor\":\"white\",\"linecolor\":\"white\",\"ticks\":\"\"},\"radialaxis\":{\"gridcolor\":\"white\",\"linecolor\":\"white\",\"ticks\":\"\"}},\"ternary\":{\"bgcolor\":\"#E5ECF6\",\"aaxis\":{\"gridcolor\":\"white\",\"linecolor\":\"white\",\"ticks\":\"\"},\"baxis\":{\"gridcolor\":\"white\",\"linecolor\":\"white\",\"ticks\":\"\"},\"caxis\":{\"gridcolor\":\"white\",\"linecolor\":\"white\",\"ticks\":\"\"}},\"coloraxis\":{\"colorbar\":{\"outlinewidth\":0,\"ticks\":\"\"}},\"colorscale\":{\"sequential\":[[0.0,\"#0d0887\"],[0.1111111111111111,\"#46039f\"],[0.2222222222222222,\"#7201a8\"],[0.3333333333333333,\"#9c179e\"],[0.4444444444444444,\"#bd3786\"],[0.5555555555555556,\"#d8576b\"],[0.6666666666666666,\"#ed7953\"],[0.7777777777777778,\"#fb9f3a\"],[0.8888888888888888,\"#fdca26\"],[1.0,\"#f0f921\"]],\"sequentialminus\":[[0.0,\"#0d0887\"],[0.1111111111111111,\"#46039f\"],[0.2222222222222222,\"#7201a8\"],[0.3333333333333333,\"#9c179e\"],[0.4444444444444444,\"#bd3786\"],[0.5555555555555556,\"#d8576b\"],[0.6666666666666666,\"#ed7953\"],[0.7777777777777778,\"#fb9f3a\"],[0.8888888888888888,\"#fdca26\"],[1.0,\"#f0f921\"]],\"diverging\":[[0,\"#8e0152\"],[0.1,\"#c51b7d\"],[0.2,\"#de77ae\"],[0.3,\"#f1b6da\"],[0.4,\"#fde0ef\"],[0.5,\"#f7f7f7\"],[0.6,\"#e6f5d0\"],[0.7,\"#b8e186\"],[0.8,\"#7fbc41\"],[0.9,\"#4d9221\"],[1,\"#276419\"]]},\"xaxis\":{\"gridcolor\":\"white\",\"linecolor\":\"white\",\"ticks\":\"\",\"title\":{\"standoff\":15},\"zerolinecolor\":\"white\",\"automargin\":true,\"zerolinewidth\":2},\"yaxis\":{\"gridcolor\":\"white\",\"linecolor\":\"white\",\"ticks\":\"\",\"title\":{\"standoff\":15},\"zerolinecolor\":\"white\",\"automargin\":true,\"zerolinewidth\":2},\"scene\":{\"xaxis\":{\"backgroundcolor\":\"#E5ECF6\",\"gridcolor\":\"white\",\"linecolor\":\"white\",\"showbackground\":true,\"ticks\":\"\",\"zerolinecolor\":\"white\",\"gridwidth\":2},\"yaxis\":{\"backgroundcolor\":\"#E5ECF6\",\"gridcolor\":\"white\",\"linecolor\":\"white\",\"showbackground\":true,\"ticks\":\"\",\"zerolinecolor\":\"white\",\"gridwidth\":2},\"zaxis\":{\"backgroundcolor\":\"#E5ECF6\",\"gridcolor\":\"white\",\"linecolor\":\"white\",\"showbackground\":true,\"ticks\":\"\",\"zerolinecolor\":\"white\",\"gridwidth\":2}},\"shapedefaults\":{\"line\":{\"color\":\"#2a3f5f\"}},\"annotationdefaults\":{\"arrowcolor\":\"#2a3f5f\",\"arrowhead\":0,\"arrowwidth\":1},\"geo\":{\"bgcolor\":\"white\",\"landcolor\":\"#E5ECF6\",\"subunitcolor\":\"white\",\"showland\":true,\"showlakes\":true,\"lakecolor\":\"white\"},\"title\":{\"x\":0.05},\"mapbox\":{\"style\":\"light\"}}},\"xaxis\":{\"anchor\":\"y\",\"domain\":[0.0,1.0],\"title\":{\"text\":\"Model\"}},\"yaxis\":{\"anchor\":\"x\",\"domain\":[0.0,1.0],\"title\":{\"text\":\"Count\"}},\"legend\":{\"title\":{\"text\":\"color\"},\"tracegroupgap\":0},\"margin\":{\"t\":60},\"barmode\":\"relative\",\"plot_bgcolor\":\"rgba(0,0,0,0)\",\"title\":{\"text\":\"Distribution of the best model for each unique SKU\",\"x\":0.5}},                        {\"responsive\": true}                    ).then(function(){\n",
              "                            \n",
              "var gd = document.getElementById('1dae9e4f-ffbb-4ac8-a3ef-894f9f993a36');\n",
              "var x = new MutationObserver(function (mutations, observer) {{\n",
              "        var display = window.getComputedStyle(gd).display;\n",
              "        if (!display || display === 'none') {{\n",
              "            console.log([gd, 'removed!']);\n",
              "            Plotly.purge(gd);\n",
              "            observer.disconnect();\n",
              "        }}\n",
              "}});\n",
              "\n",
              "// Listen for the removal of the full notebook cells\n",
              "var notebookContainer = gd.closest('#notebook-container');\n",
              "if (notebookContainer) {{\n",
              "    x.observe(notebookContainer, {childList: true});\n",
              "}}\n",
              "\n",
              "// Listen for the clearing of the current output cell\n",
              "var outputEl = gd.closest('.output');\n",
              "if (outputEl) {{\n",
              "    x.observe(outputEl, {childList: true});\n",
              "}}\n",
              "\n",
              "                        })                };                            </script>        </div>\n",
              "</body>\n",
              "</html>"
            ]
          },
          "metadata": {}
        }
      ]
    },
    {
      "cell_type": "code",
      "source": [
        "import plotly.graph_objs as go\n",
        "\n",
        "model_count = forecasting_data.groupby('Model')['_ItemNumber'].nunique()\n",
        "model_count = model_count.sort_values(ascending=False)\n",
        "\n",
        "# Assign colors \n",
        "#color_mapping = assign_colors(model_count, color_palette)\n",
        "unique_ranges = model_count.index.unique()\n",
        "color_mapping = assign_colors(unique_ranges, color_palette)\n",
        "\n",
        "fig = go.Figure()\n",
        "\n",
        "for idx, value in model_count.iteritems():\n",
        "    fig.add_trace(go.Bar(x=[idx],\n",
        "                         y=[value],\n",
        "                         name=idx,\n",
        "                         marker_color=color_mapping[idx],\n",
        "                         text=value,\n",
        "                         textposition='outside',\n",
        "                         textfont=dict(size=14, color='black', family='Arial')\n",
        "                         ))\n",
        "\n",
        "fig.update_layout(plot_bgcolor='rgba(0,0,0,0)')\n",
        "fig.update_layout(yaxis_title=\"Count\")\n",
        "fig.update_layout(xaxis_title=\"Model\")\n",
        "fig.update_layout(title_text=\"Distribution of the best model for each unique SKU\", title_x=0.5)\n",
        "fig.show()\n"
      ],
      "metadata": {
        "id": "X3VZJWj-Nnm3"
      },
      "execution_count": null,
      "outputs": []
    },
    {
      "cell_type": "markdown",
      "source": [
        "# Model deep dive "
      ],
      "metadata": {
        "id": "H2nHRY0_l_9z"
      }
    },
    {
      "cell_type": "markdown",
      "source": [
        "We are going to remove all SKUs with RMSE values above 1,000. The reason for this, is that we found that these models were completely wrong, thus providing a wrong picture of the evaluation. These will be further investigated at a later stage. "
      ],
      "metadata": {
        "id": "xov45zQzpvbK"
      }
    },
    {
      "cell_type": "code",
      "source": [
        "rmse_stat=forecasting_data[forecasting_data[\"train_test_RMSE\"]<1000]\n",
        "rmse_stat_above_1000=forecasting_data[forecasting_data[\"train_test_RMSE\"]>1000]\n",
        "print(len(rmse_stat_above_1000))\n",
        "print(len(rmse_stat))"
      ],
      "metadata": {
        "colab": {
          "base_uri": "https://localhost:8080/"
        },
        "id": "DeAGk9Ynpsdv",
        "outputId": "d31492bb-7f3e-4ba6-9bb0-1c0da743a3c8"
      },
      "execution_count": null,
      "outputs": [
        {
          "output_type": "stream",
          "name": "stdout",
          "text": [
            "250\n",
            "5555\n"
          ]
        }
      ]
    },
    {
      "cell_type": "code",
      "source": [
        "rmse_stat_above_1000.Model.value_counts()"
      ],
      "metadata": {
        "colab": {
          "base_uri": "https://localhost:8080/"
        },
        "id": "4u3ez3qCqn1v",
        "outputId": "536f4a90-f755-4c19-e56c-b6d3f2c7e855"
      },
      "execution_count": null,
      "outputs": [
        {
          "output_type": "execute_result",
          "data": {
            "text/plain": [
              "ARIMA         100\n",
              "XGBOOST       100\n",
              "EXP SMOOTH     50\n",
              "Name: Model, dtype: int64"
            ]
          },
          "metadata": {},
          "execution_count": 27
        }
      ]
    },
    {
      "cell_type": "code",
      "source": [
        "total_sales_week_by_item = result.groupby(['date_weekly', '_ItemNumber'])['Q'].sum()\n",
        "total_sales_week_by_item.describe()"
      ],
      "metadata": {
        "colab": {
          "base_uri": "https://localhost:8080/"
        },
        "id": "RLKWjbuz1g4X",
        "outputId": "8f391f0e-0a64-46b7-8d8a-5299514c4d68"
      },
      "execution_count": null,
      "outputs": [
        {
          "output_type": "execute_result",
          "data": {
            "text/plain": [
              "count    34382.000000\n",
              "mean       168.600954\n",
              "std        414.084136\n",
              "min      -1872.000000\n",
              "25%          6.000000\n",
              "50%         43.000000\n",
              "75%        169.000000\n",
              "max      17775.000000\n",
              "Name: Q, dtype: float64"
            ]
          },
          "metadata": {},
          "execution_count": 28
        }
      ]
    },
    {
      "cell_type": "markdown",
      "source": [
        "#### LSTM"
      ],
      "metadata": {
        "id": "TXwQFXbhmEJL"
      }
    },
    {
      "cell_type": "code",
      "source": [
        "lstm=rmse_stat[rmse_stat[\"Model\"]==\"LSTM\"]\n",
        "len(lstm)"
      ],
      "metadata": {
        "id": "sPWQ4ujlpdQV"
      },
      "execution_count": null,
      "outputs": []
    },
    {
      "cell_type": "markdown",
      "source": [
        "###### Average RMSE"
      ],
      "metadata": {
        "id": "GGwxbn52_RcY"
      }
    },
    {
      "cell_type": "code",
      "source": [
        "lstm.train_test_RMSE.describe()"
      ],
      "metadata": {
        "id": "jb0mYBMBrHvd"
      },
      "execution_count": null,
      "outputs": []
    },
    {
      "cell_type": "markdown",
      "source": [
        "###### What is the average length of observations?"
      ],
      "metadata": {
        "id": "9_3QrZ6vpjY8"
      }
    },
    {
      "cell_type": "code",
      "source": [
        "unique_items=lstm[\"_ItemNumber\"].unique()\n",
        "\n",
        "lstm_items = original_data[original_data[\"_ItemNumber\"].isin(unique_items)]\n",
        "len(lstm_items._ItemNumber.unique())"
      ],
      "metadata": {
        "id": "tO56qE-sVo42"
      },
      "execution_count": null,
      "outputs": []
    },
    {
      "cell_type": "code",
      "source": [
        "observations_by_item_number=pd.pivot_table(lstm_items, index='_ItemNumber', values=['date_weekly'], aggfunc=lambda x: len(x.unique()))"
      ],
      "metadata": {
        "id": "r8--UgAzQHNM"
      },
      "execution_count": null,
      "outputs": []
    },
    {
      "cell_type": "code",
      "source": [
        "observations_by_item_number.describe()"
      ],
      "metadata": {
        "id": "h3mquFUmTpFr"
      },
      "execution_count": null,
      "outputs": []
    },
    {
      "cell_type": "code",
      "source": [
        "# Sort the pivot table in descending order\n",
        "sorted_observations = observations_by_item_number.sort_values(by='date_weekly', ascending=False).reset_index()\n",
        "\n",
        "# Create a bar chart using plotly express\n",
        "fig = px.bar(sorted_observations, x='_ItemNumber', y='date_weekly', title='Number of Weekly Observations by Unique Item Number',\n",
        "             color_discrete_sequence=[color_palette[8]])\n",
        "\n",
        "# Customize the chart layout if needed\n",
        "fig.update_layout(xaxis_title='Item Number', yaxis_title='Count of Weekly Observations',title_x=0.5)\n",
        "fig.update_layout(plot_bgcolor='rgba(0,0,0,0)')\n",
        "# Show the chart\n",
        "fig.show()\n"
      ],
      "metadata": {
        "id": "JCdLjPyIIQW7"
      },
      "execution_count": null,
      "outputs": []
    },
    {
      "cell_type": "markdown",
      "source": [
        "#### EXP SMOOTH"
      ],
      "metadata": {
        "id": "Dz8E0POSmLeZ"
      }
    },
    {
      "cell_type": "code",
      "source": [
        "exp_smooth=rmse_stat[rmse_stat[\"Model\"]==\"EXP SMOOTH\"]\n",
        "len(exp_smooth)"
      ],
      "metadata": {
        "id": "ydeUdHkBGIan"
      },
      "execution_count": null,
      "outputs": []
    },
    {
      "cell_type": "markdown",
      "source": [
        "###### Average RMSE"
      ],
      "metadata": {
        "id": "bmRjqx6E_cZB"
      }
    },
    {
      "cell_type": "code",
      "source": [
        "exp_smooth.train_test_RMSE.describe()"
      ],
      "metadata": {
        "id": "twgenJ-R_cZB"
      },
      "execution_count": null,
      "outputs": []
    },
    {
      "cell_type": "markdown",
      "source": [
        "###### What is the average length of observations?"
      ],
      "metadata": {
        "id": "6LHUT6Ja_cZC"
      }
    },
    {
      "cell_type": "code",
      "source": [
        "unique_items=exp_smooth[\"_ItemNumber\"].unique()\n",
        "\n",
        "exp_smooth_items = original_data[original_data[\"_ItemNumber\"].isin(unique_items)]\n",
        "len(exp_smooth_items._ItemNumber.unique())"
      ],
      "metadata": {
        "id": "yuxf5AGfTzcV"
      },
      "execution_count": null,
      "outputs": []
    },
    {
      "cell_type": "code",
      "source": [
        "observations_by_item_number=pd.pivot_table(exp_smooth_items, index='_ItemNumber', values=['date_weekly'], aggfunc=lambda x: len(x.unique()))"
      ],
      "metadata": {
        "id": "X657oKQWTzcW"
      },
      "execution_count": null,
      "outputs": []
    },
    {
      "cell_type": "code",
      "source": [
        "observations_by_item_number.describe()"
      ],
      "metadata": {
        "id": "ZUtMXTDDTzcW"
      },
      "execution_count": null,
      "outputs": []
    },
    {
      "cell_type": "markdown",
      "source": [
        "#### ARIMA"
      ],
      "metadata": {
        "id": "GNWm9EOnmNYu"
      }
    },
    {
      "cell_type": "code",
      "source": [
        "arima=rmse_stat[rmse_stat[\"Model\"]==\"ARIMA\"]\n",
        "len(arima)"
      ],
      "metadata": {
        "id": "XmHbpNntUbGv"
      },
      "execution_count": null,
      "outputs": []
    },
    {
      "cell_type": "markdown",
      "source": [
        "###### Average RMSE"
      ],
      "metadata": {
        "id": "wvirJR2i_dQT"
      }
    },
    {
      "cell_type": "code",
      "source": [
        "arima.train_test_RMSE.describe()"
      ],
      "metadata": {
        "id": "wNhHgZl1_dQT"
      },
      "execution_count": null,
      "outputs": []
    },
    {
      "cell_type": "markdown",
      "source": [
        "###### What is the average length of observations?"
      ],
      "metadata": {
        "id": "AMdJ8m7v_dQU"
      }
    },
    {
      "cell_type": "code",
      "source": [
        "unique_items=arima[\"_ItemNumber\"].unique()\n",
        "\n",
        "arima_items = original_data[original_data[\"_ItemNumber\"].isin(unique_items)]\n",
        "len(arima_items._ItemNumber.unique())"
      ],
      "metadata": {
        "id": "HHUDloW8UQ99"
      },
      "execution_count": null,
      "outputs": []
    },
    {
      "cell_type": "code",
      "source": [
        "observations_by_item_number=pd.pivot_table(arima_items, index='_ItemNumber', values=['date_weekly'], aggfunc=lambda x: len(x.unique()))"
      ],
      "metadata": {
        "id": "Uj3mRNzMUQ99"
      },
      "execution_count": null,
      "outputs": []
    },
    {
      "cell_type": "code",
      "source": [
        "observations_by_item_number.describe()"
      ],
      "metadata": {
        "id": "asCOy75_UQ99"
      },
      "execution_count": null,
      "outputs": []
    },
    {
      "cell_type": "markdown",
      "source": [
        "#### XGBOOST"
      ],
      "metadata": {
        "id": "TTUKVJI0mOlv"
      }
    },
    {
      "cell_type": "code",
      "source": [
        "xgboost=rmse_stat[rmse_stat[\"Model\"]==\"XGBOOST\"]\n",
        "len(xgboost)"
      ],
      "metadata": {
        "id": "sT7WedfLUorG"
      },
      "execution_count": null,
      "outputs": []
    },
    {
      "cell_type": "markdown",
      "source": [
        "###### Average RMSE"
      ],
      "metadata": {
        "id": "1a2z6NxU_d7_"
      }
    },
    {
      "cell_type": "code",
      "source": [
        "xgboost.train_test_RMSE.describe()"
      ],
      "metadata": {
        "id": "iVFYjkdP_d7_"
      },
      "execution_count": null,
      "outputs": []
    },
    {
      "cell_type": "markdown",
      "source": [
        "###### What is the average length of observations?"
      ],
      "metadata": {
        "id": "4NEIkB06_d7_"
      }
    },
    {
      "cell_type": "code",
      "source": [
        "unique_items=xgboost[\"_ItemNumber\"].unique()\n",
        "\n",
        "xgboost_items = original_data[original_data[\"_ItemNumber\"].isin(unique_items)]\n",
        "len(xgboost_items._ItemNumber.unique())"
      ],
      "metadata": {
        "id": "UCa9y0LfUXdw"
      },
      "execution_count": null,
      "outputs": []
    },
    {
      "cell_type": "code",
      "source": [
        "observations_by_item_number=pd.pivot_table(xgboost_items, index='_ItemNumber', values=['date_weekly'], aggfunc=lambda x: len(x.unique()))"
      ],
      "metadata": {
        "id": "28k-HnGAUXdw"
      },
      "execution_count": null,
      "outputs": []
    },
    {
      "cell_type": "code",
      "source": [
        "observations_by_item_number.describe()"
      ],
      "metadata": {
        "id": "fUlbJCl5UXdx"
      },
      "execution_count": null,
      "outputs": []
    },
    {
      "cell_type": "code",
      "source": [
        "len(forecasting_data)"
      ],
      "metadata": {
        "id": "3tY3VM2gA9du"
      },
      "execution_count": null,
      "outputs": []
    },
    {
      "cell_type": "markdown",
      "source": [
        "#### Total sum by month "
      ],
      "metadata": {
        "id": "QbXiAx-ec89J"
      }
    },
    {
      "cell_type": "code",
      "source": [
        "# Set the cutoff date\n",
        "#cutoff_date = pd.to_datetime(\"2023-03-01\")\n",
        "\n",
        "# Filter the DataFrame based on the \"Merged\" column values and the cutoff date:\n",
        "#filtered_df = result[((result[\"Merged\"] < 25000) & (result[\"date_weekly\"] >= cutoff_date)) | (result[\"date_weekly\"] < cutoff_date)]\n",
        "\n",
        "start_cutoff_date = pd.to_datetime(\"2023-03-01\")\n",
        "end_cutoff_date = pd.to_datetime(\"2023-10-01\")\n",
        "\n",
        "# Filter the DataFrame based on the conditions:\n",
        "filtered_df = result[\n",
        "    (\n",
        "        (result[\"Merged\"] < 25000) & \n",
        "        (result[\"date_weekly\"] >= start_cutoff_date) & \n",
        "        (result[\"date_weekly\"] < end_cutoff_date)\n",
        "    ) | \n",
        "    (result[\"date_weekly\"] < start_cutoff_date)\n",
        "]\n",
        "\n",
        "#filtered_df=result[result[\"Merged\"]<10000]\n",
        "# Create a new 'month' column by extracting the month from the 'date_weekly' column:\n",
        "filtered_df['month'] = filtered_df['date_weekly'].dt.to_period('M')\n",
        "\n",
        "# Group by the 'month' column and sum the 'Merged' column:\n",
        "monthly_sum = filtered_df.groupby('month')['Merged'].sum().reset_index()\n",
        "\n",
        "monthly_sum"
      ],
      "metadata": {
        "id": "nn192vbUdAMD"
      },
      "execution_count": null,
      "outputs": []
    },
    {
      "cell_type": "code",
      "source": [
        "import pandas as pd\n",
        "import plotly.graph_objs as go\n",
        "\n",
        "# Your existing code to create the filtered_df and monthly_sum DataFrames\n",
        "\n",
        "# Convert the 'month' column back to datetime (first day of the month) for easier plotting\n",
        "monthly_sum['month'] = monthly_sum['month'].astype(str)\n",
        "monthly_sum['month'] = pd.to_datetime(monthly_sum['month'])\n",
        "\n",
        "# Split the data into segments\n",
        "before_start = monthly_sum[monthly_sum['month'] < start_cutoff_date]\n",
        "between_start_end = monthly_sum[(monthly_sum['month'] >= start_cutoff_date) & (monthly_sum['month'] < end_cutoff_date)]\n",
        "after_end = monthly_sum[monthly_sum['month'] >= end_cutoff_date]\n",
        "\n",
        "# Create the figure and add traces for each segment\n",
        "trendfig = go.Figure()\n",
        "\n",
        "# Add trace for data before the start cutoff date\n",
        "trendfig.add_trace(go.Scatter(x=before_start['month'], y=before_start['Merged'], name='Total Sales', line=dict(color=color_palette[0])))\n",
        "\n",
        "# Add trace for data between the start and end cutoff dates\n",
        "trendfig.add_trace(go.Scatter(x=between_start_end['month'], y=between_start_end['Merged'], name='Total Sales (Forecast)', line=dict(color=color_palette[4])))\n",
        "\n",
        "# Add trace for data after the end cutoff date, if applicable\n",
        "if not after_end.empty:\n",
        "    trendfig.add_trace(go.Scatter(x=after_end['month'], y=after_end['Merged'], name='Total Sales (After)', line=dict(color=color_palette[8])))\n",
        "\n",
        "# Update layout and axes titles\n",
        "trendfig.update_layout(title='Aggregated forecast compared to observed values', title_x=0.5, xaxis_title='Date', yaxis_title='Sum of quantity (Month)', plot_bgcolor='rgba(0,0,0,0)')\n",
        "\n",
        "# Show the figure\n",
        "trendfig.show()\n"
      ],
      "metadata": {
        "id": "c-pBN5zCAzux"
      },
      "execution_count": null,
      "outputs": []
    },
    {
      "cell_type": "code",
      "source": [
        "df = pd.read_csv(\"/content/drive/MyDrive/Master Thesis/FFFF_final_forecasting_data_with2023.csv\")\n",
        "df.head()"
      ],
      "metadata": {
        "id": "P4fw1BZoGnD7"
      },
      "execution_count": null,
      "outputs": []
    },
    {
      "cell_type": "code",
      "source": [
        "other_df_filtered = df[['_ItemNumber', 'Item Category Code']]\n",
        "other_df_filtered"
      ],
      "metadata": {
        "id": "y--RomR-Mmk7"
      },
      "execution_count": null,
      "outputs": []
    },
    {
      "cell_type": "code",
      "source": [
        "merged_df = result.merge(other_df_filtered, left_on='_ItemNumber', right_on='_ItemNumber', how='left')\n",
        "merged_df = merged_df.drop('_ItemNumber', axis=1)\n",
        "merged_df"
      ],
      "metadata": {
        "id": "H-vFAlJfMr1Q"
      },
      "execution_count": null,
      "outputs": []
    },
    {
      "cell_type": "code",
      "source": [
        "import pandas as pd\n",
        "\n",
        "# Assuming your DataFrames are named 'result' and 'other_df'\n",
        "# Make sure the column names are correct in your DataFrames\n",
        "\n",
        "# Select only the 'ItemNumber' and 'Item Category Code' columns from other_df\n",
        "other_df_filtered = df[['_ItemNumber', 'Item Category Code']]\n",
        "\n",
        "# Merge DataFrames on the specified columns\n",
        "merged_df = result.merge(other_df_filtered, left_on='_ItemNumber', right_on='_ItemNumber', how='left')\n",
        "\n",
        "# Drop the 'ItemNumber' column as it's a duplicate of '_ItemNumber'\n",
        "merged_df = merged_df.drop('_ItemNumber', axis=1)\n",
        "\n",
        "# Now 'merged_df' contains the result DataFrame with the 'Item Category Code' column appended\n",
        "merged_df"
      ],
      "metadata": {
        "id": "PNyileEcL9hb"
      },
      "execution_count": null,
      "outputs": []
    },
    {
      "cell_type": "code",
      "source": [
        "import time\n",
        "from datetime import datetime\n",
        "\n",
        "# Set 'date_' column as index\n",
        "df = df.reset_index()\n",
        "df[\"date_\"] = pd.to_datetime(df[\"date_\"])\n",
        "df.set_index('date_', inplace=True)\n",
        "\n",
        "# Convert the index to a DatetimeIndex\n",
        "#datetime_index = pd.DatetimeIndex(df.index)\n",
        "\n",
        "# Create new column 'date_weekly'\n",
        "df['date_weekly'] = datetime_index - pd.to_timedelta(datetime_index.dayofweek, unit='d') + pd.DateOffset(days=1)\n",
        "df=df.reset_index()\n",
        "weekly_df_forecasting = df[[\"date_weekly\", \"_ItemNumber\", \"Q\", \"Item Category Code\"]]\n",
        "weekly_df_forecasting.head()\n",
        "\n",
        "#weekly_df_forecasting.to_csv('weekly_forecasting data.csv')"
      ],
      "metadata": {
        "id": "y1Onlcn1GKj5"
      },
      "execution_count": null,
      "outputs": []
    },
    {
      "cell_type": "code",
      "source": [
        "forecasting_data"
      ],
      "metadata": {
        "id": "QstHE_6MIfRc"
      },
      "execution_count": null,
      "outputs": []
    },
    {
      "cell_type": "code",
      "source": [
        "\n",
        "# Create a DataFrame with unique item numbers and their corresponding item category codes\n",
        "unique_item_categories = weekly_df_forecasting[[\"_ItemNumber\", \"Item Category Code\"]].drop_duplicates()\n",
        "\n",
        "# Merge the unique item categories with the forecasting_data DataFrame\n",
        "forecasting_data = forecasting_data.merge(unique_item_categories, on=\"_ItemNumber\", how=\"left\")\n",
        "\n",
        "# Set NaN values for the Q column in forecasting_data\n",
        "#forecasting_data[\"Q\"] = np.nan\n",
        "\n",
        "# Add new columns with NaN values to the original_data DataFrame\n",
        "weekly_df_forecasting[\"Model\"] = np.nan\n",
        "weekly_df_forecasting[\"Forecast\"] = np.nan\n",
        "weekly_df_forecasting[\"ConfInt_lower\"] = np.nan\n",
        "weekly_df_forecasting[\"ConfInt_upper\"] = np.nan\n",
        "weekly_df_forecasting[\"train_test_RMSE\"] = np.nan\n",
        "\n",
        "# Append the DataFrames\n",
        "result_with_categories = forecasting_data.append(weekly_df_forecasting, ignore_index=True)\n",
        "result_with_categories.head()"
      ],
      "metadata": {
        "id": "EUnfkGIhIETk"
      },
      "execution_count": null,
      "outputs": []
    },
    {
      "cell_type": "code",
      "source": [
        "result_with_categories['Merged'] = result_with_categories['Q'].fillna(result_with_categories['Forecast'])"
      ],
      "metadata": {
        "id": "k_ZYDPjCIETk"
      },
      "execution_count": null,
      "outputs": []
    },
    {
      "cell_type": "code",
      "source": [
        "result_with_categories"
      ],
      "metadata": {
        "id": "RtmEUYHKK-b3"
      },
      "execution_count": null,
      "outputs": []
    },
    {
      "cell_type": "code",
      "source": [
        "start_cutoff_date = pd.to_datetime(\"2023-03-01\")\n",
        "end_cutoff_date = pd.to_datetime(\"2023-10-01\")\n",
        "\n",
        "# Filter the DataFrame based on the conditions:\n",
        "filtered_df = result_with_categories[\n",
        "    (\n",
        "        (result_with_categories[\"Merged\"] < 25000) & \n",
        "        (result_with_categories[\"date_weekly\"] >= start_cutoff_date) & \n",
        "        (result_with_categories[\"date_weekly\"] < end_cutoff_date)\n",
        "    ) | \n",
        "    (result_with_categories[\"date_weekly\"] < start_cutoff_date)\n",
        "]\n",
        "\n",
        "#filtered_df=result[result[\"Merged\"]<10000]\n",
        "# Create a new 'month' column by extracting the month from the 'date_weekly' column:\n",
        "filtered_df['month'] = filtered_df['date_weekly'].dt.to_period('M')"
      ],
      "metadata": {
        "id": "0Q3iscAhMxd_"
      },
      "execution_count": null,
      "outputs": []
    },
    {
      "cell_type": "code",
      "source": [
        "import plotly.graph_objs as go\n",
        "\n",
        "# Convert the 'date_weekly' column to a datetime object\n",
        "filtered_df['date_weekly'] = pd.to_datetime(filtered_df['date_weekly'])\n",
        "\n",
        "# Filter the data for years 2020 and onwards\n",
        "after_2022 = filtered_df[filtered_df['date_weekly'] > pd.to_datetime('2020-01-01')]\n",
        "\n",
        "# Group the data by Item Category Code and Year\n",
        "after_2022['year'] = pd.DatetimeIndex(after_2022['date_weekly']).year\n",
        "category_yearly_sales = after_2022.groupby(['Item Category Code', 'year'], as_index=False)['Merged'].sum()\n",
        "\n",
        "# Create a color mapping for the unique categories\n",
        "unique_categories = category_yearly_sales['Item Category Code'].unique()\n",
        "color_mapping = assign_colors(unique_categories, color_palette)\n",
        "\n",
        "# Create the bar chart\n",
        "store_yearly_sales_bars = []\n",
        "for cat in unique_categories:\n",
        "    current_store_yearly_sales = category_yearly_sales[(category_yearly_sales['Item Category Code'] == cat)]\n",
        "    store_yearly_sales_bars.append(go.Bar(x=current_store_yearly_sales['year'], y=current_store_yearly_sales['Merged'], name=('Category: %s' % cat), marker=dict(color=color_mapping[cat])))\n",
        "\n",
        "layout = go.Layout(title='Yearly quantity sold by category from 2020 onwards', title_x=0.5, xaxis=dict(title=''), yaxis=dict(title='Quantity'))\n",
        "fig = go.Figure(data=store_yearly_sales_bars, layout=layout)\n",
        "fig.update_layout(plot_bgcolor='rgba(0,0,0,0)')\n",
        "fig.update_layout(legend=dict(orientation='h', yanchor='bottom', y=-0.2, xanchor='center', x=0.5), legend_title=\"\")\n",
        "\n",
        "fig.show()\n"
      ],
      "metadata": {
        "id": "WTdZMLORLgmD"
      },
      "execution_count": null,
      "outputs": []
    },
    {
      "cell_type": "code",
      "source": [
        "\n",
        "# Convert the 'date_weekly' column to a datetime object\n",
        "filtered_df['date_weekly'] = pd.to_datetime(filtered_df['date_weekly'])\n",
        "\n",
        "# Filter the data for years 2020 and onwards\n",
        "after_2022 = filtered_df[filtered_df['date_weekly'] > pd.to_datetime('2023-03-01')]\n",
        "\n",
        "# Group the data by Item Category Code and Year\n",
        "#after_2022['month'] = pd.DatetimeIndex(after_2022['date_weekly']).year\n",
        "category_yearly_sales = after_2022.groupby(['Item Category Code', 'month'], as_index=False)['Merged'].sum()\n",
        "category_yearly_sales['month'] = category_yearly_sales['month'].astype(str)\n",
        "\n",
        "# Create a color mapping for the unique categories\n",
        "unique_categories = category_yearly_sales['Item Category Code'].unique()\n",
        "color_mapping = assign_colors(unique_categories, color_palette)\n",
        "\n",
        "# Create the bar chart\n",
        "store_yearly_sales_bars = []\n",
        "for cat in unique_categories:\n",
        "    current_store_yearly_sales = category_yearly_sales[(category_yearly_sales['Item Category Code'] == cat)]\n",
        "    store_yearly_sales_bars.append(go.Bar(x=current_store_yearly_sales['month'], y=current_store_yearly_sales['Merged'], name=('Category: %s' % cat), marker=dict(color=color_mapping[cat])))\n",
        "\n",
        "layout = go.Layout(title='Monthly forecast by category', title_x=0.5, xaxis=dict(title=''), yaxis=dict(title='Quantity'))\n",
        "fig = go.Figure(data=store_yearly_sales_bars, layout=layout)\n",
        "fig.update_layout(plot_bgcolor='rgba(0,0,0,0)')\n",
        "fig.update_layout(legend=dict(orientation='h', yanchor='bottom', y=-0.2, xanchor='center', x=0.5), legend_title=\"\")\n",
        "\n",
        "fig.show()"
      ],
      "metadata": {
        "id": "tXIQpXt0S1Hl"
      },
      "execution_count": null,
      "outputs": []
    },
    {
      "cell_type": "code",
      "source": [],
      "metadata": {
        "id": "tYtxIf77IEBI"
      },
      "execution_count": null,
      "outputs": []
    },
    {
      "cell_type": "code",
      "source": [],
      "metadata": {
        "id": "UCOLgs3zIEC-"
      },
      "execution_count": null,
      "outputs": []
    },
    {
      "cell_type": "markdown",
      "source": [
        "## Forecast plots"
      ],
      "metadata": {
        "id": "EjY75HqKEwnp"
      }
    },
    {
      "cell_type": "code",
      "source": [
        "\n",
        "# Sort the DataFrame by 'train_test_RMSE'\n",
        "sorted_results = result.sort_values(by='train_test_RMSE')\n",
        "\n",
        "# Drop duplicates to keep only the lowest RMSE row for each _ItemNumber\n",
        "unique_sorted_results = sorted_results.drop_duplicates(subset='_ItemNumber')\n",
        "\n",
        "# Select the top 20 _ItemNumber with the lowest train_test_RMSE\n",
        "top_20_items = unique_sorted_results.head(20)\n",
        "\n",
        "# Reset the index of the new DataFrame\n",
        "top_20_items.reset_index(drop=True, inplace=True)\n"
      ],
      "metadata": {
        "id": "jPFl5oTYJRqs"
      },
      "execution_count": null,
      "outputs": []
    },
    {
      "cell_type": "code",
      "source": [
        "long_observations_lstm=sorted_observations.head(30)\n",
        "long_observations_lstm"
      ],
      "metadata": {
        "id": "NDbmRui2s5ga"
      },
      "execution_count": null,
      "outputs": []
    },
    {
      "cell_type": "code",
      "source": [
        "\n",
        "# Choose a random _ItemNumber\n",
        "#item_number_values = ['MELCU-II', 'MELCU-DMI', 'MELCU-LMAGT', 'WRBIR-SXC']\n",
        "item_number_values = top_20_items[\"_ItemNumber\"].unique()\n",
        "#unique_item_numbers = top_10_lowest_rmse[\"_ItemNumber\"].unique()\n",
        "item_number = np.random.choice(item_number_values, size=1, replace=False)[0]\n",
        "\n",
        "# Filter the data for the chosen _ItemNumber and sort by date_weekly\n",
        "filtered_data = result[result[\"_ItemNumber\"] == item_number].sort_values(by=\"date_weekly\")\n",
        "#filtered_data=result[result[\"train_test_RMSE\"]<1000]\n",
        "# Create a new 'month' column by extracting the month from the 'date_weekly' column:\n",
        "\n",
        "model_name = filtered_data[\"Model\"].dropna().iloc[0]\n",
        "total_sales_week = filtered_data.groupby('date_weekly').sum()['Merged']\n",
        "total_sales_week = total_sales_week.reset_index()\n",
        "#total_sales_week = total_sales_week[total_sales_week[\"Merged\"] > 0]\n",
        "#total_sales_week = total_sales_week[total_sales_week[\"date_weekly\"] > '2022-01-01']\n",
        "#filtered_data = filtered_data[filtered_data[\"date_weekly\"] > '2022-01-01']\n",
        "\n",
        "n_forecast = 25\n",
        "forecast_start_idx = len(total_sales_week) - n_forecast\n",
        "\n",
        "# Create the plot\n",
        "fig = go.Figure()\n",
        "\n",
        "# Plot the observed data\n",
        "fig.add_trace(go.Scatter(x=total_sales_week[\"date_weekly\"][:forecast_start_idx], y=total_sales_week[\"Merged\"][:forecast_start_idx],\n",
        "                         mode='lines', name='Observed', line=dict(color=color_palette[0]), marker=dict(color='blue')))\n",
        "\n",
        "# Plot the forecasted data\n",
        "fig.add_trace(go.Scatter(x=total_sales_week[\"date_weekly\"][forecast_start_idx:], y=total_sales_week[\"Merged\"][forecast_start_idx:],\n",
        "                         mode='lines', name='Forecast', line=dict(color=color_palette[4],dash=\"dash\"), marker=dict(color='red')))\n",
        "\n",
        "# Set the plot title and labels\n",
        "#fig.update_layout(title=f\"Forecast for _ItemNumber: {item_number}\", title_x=0.5,\n",
        " #                 xaxis_title=\"date_weekly\",\n",
        "  #                yaxis_title=\"Values\", plot_bgcolor='rgba(0,0,0,0)')\n",
        "\n",
        "# Set the plot title and labels\n",
        "fig.update_layout(title=f\"Forecast for Item Number: {item_number} using {model_name}\",title_x=0.5,\n",
        "                  xaxis_title=\"date_weekly\",\n",
        "                  yaxis_title=\"Values\", plot_bgcolor='rgba(0,0,0,0)')\n",
        "\n",
        "# Display the plot\n",
        "fig.show()\n"
      ],
      "metadata": {
        "colab": {
          "base_uri": "https://localhost:8080/",
          "height": 631
        },
        "id": "Z_GvkcfsIHnh",
        "outputId": "9aa41287-350b-4db7-ee6b-adc6c211b512"
      },
      "execution_count": null,
      "outputs": [
        {
          "output_type": "stream",
          "name": "stderr",
          "text": [
            "<ipython-input-41-5a651ae39f12>:17: FutureWarning:\n",
            "\n",
            "The default value of numeric_only in DataFrameGroupBy.sum is deprecated. In a future version, numeric_only will default to False. Either specify numeric_only or select only columns which should be valid for the function.\n",
            "\n"
          ]
        },
        {
          "output_type": "display_data",
          "data": {
            "text/html": [
              "<html>\n",
              "<head><meta charset=\"utf-8\" /></head>\n",
              "<body>\n",
              "    <div>            <script src=\"https://cdnjs.cloudflare.com/ajax/libs/mathjax/2.7.5/MathJax.js?config=TeX-AMS-MML_SVG\"></script><script type=\"text/javascript\">if (window.MathJax && window.MathJax.Hub && window.MathJax.Hub.Config) {window.MathJax.Hub.Config({SVG: {font: \"STIX-Web\"}});}</script>                <script type=\"text/javascript\">window.PlotlyConfig = {MathJaxConfig: 'local'};</script>\n",
              "        <script src=\"https://cdn.plot.ly/plotly-2.18.2.min.js\"></script>                <div id=\"2210ce0f-37ab-4a4e-8de4-e61724cbfc1b\" class=\"plotly-graph-div\" style=\"height:525px; width:100%;\"></div>            <script type=\"text/javascript\">                                    window.PLOTLYENV=window.PLOTLYENV || {};                                    if (document.getElementById(\"2210ce0f-37ab-4a4e-8de4-e61724cbfc1b\")) {                    Plotly.newPlot(                        \"2210ce0f-37ab-4a4e-8de4-e61724cbfc1b\",                        [{\"line\":{\"color\":\"rgba(41, 57, 71, 1)\"},\"marker\":{\"color\":\"blue\"},\"mode\":\"lines\",\"name\":\"Observed\",\"x\":[\"2022-12-13T00:00:00\",\"2022-12-20T00:00:00\",\"2022-12-27T00:00:00\",\"2023-01-03T00:00:00\",\"2023-01-10T00:00:00\",\"2023-01-17T00:00:00\",\"2023-01-24T00:00:00\",\"2023-01-31T00:00:00\",\"2023-02-07T00:00:00\",\"2023-02-14T00:00:00\",\"2023-02-21T00:00:00\",\"2023-02-28T00:00:00\",\"2023-03-07T00:00:00\",\"2023-03-14T00:00:00\",\"2023-03-21T00:00:00\",\"2023-03-28T00:00:00\"],\"y\":[137.0,237.0,110.0,342.0,196.0,171.0,140.0,102.0,67.0,96.0,64.0,150.0,361.0,193.0,278.0,31.0],\"type\":\"scatter\"},{\"line\":{\"color\":\"rgba(80, 177, 200, 100)\",\"dash\":\"dash\"},\"marker\":{\"color\":\"red\"},\"mode\":\"lines\",\"name\":\"Forecast\",\"x\":[\"2023-04-16T00:00:00\",\"2023-04-23T00:00:00\",\"2023-04-30T00:00:00\",\"2023-05-07T00:00:00\",\"2023-05-14T00:00:00\",\"2023-05-21T00:00:00\",\"2023-05-28T00:00:00\",\"2023-06-04T00:00:00\",\"2023-06-11T00:00:00\",\"2023-06-18T00:00:00\",\"2023-06-25T00:00:00\",\"2023-07-02T00:00:00\",\"2023-07-09T00:00:00\",\"2023-07-16T00:00:00\",\"2023-07-23T00:00:00\",\"2023-07-30T00:00:00\",\"2023-08-06T00:00:00\",\"2023-08-13T00:00:00\",\"2023-08-20T00:00:00\",\"2023-08-27T00:00:00\",\"2023-09-03T00:00:00\",\"2023-09-10T00:00:00\",\"2023-09-17T00:00:00\",\"2023-09-24T00:00:00\",\"2023-10-01T00:00:00\"],\"y\":[5.907930405047915,5.087353912729722,7.645373611014301,6.954156399690788,8.235988110310668,7.680124237572319,8.374892315023883,7.941410372410265,8.330153364638527,7.996935475783481,8.212318920874992,7.955968484997427,8.067547818537323,7.867556475889662,7.914636764418789,7.754748720852218,7.760748920485422,7.628829681144853,7.608229348513873,7.495555252443627,7.457538740296771,7.357988181495481,7.308484056774531,7.217828711870544,7.160709796779022],\"type\":\"scatter\"}],                        {\"template\":{\"data\":{\"histogram2dcontour\":[{\"type\":\"histogram2dcontour\",\"colorbar\":{\"outlinewidth\":0,\"ticks\":\"\"},\"colorscale\":[[0.0,\"#0d0887\"],[0.1111111111111111,\"#46039f\"],[0.2222222222222222,\"#7201a8\"],[0.3333333333333333,\"#9c179e\"],[0.4444444444444444,\"#bd3786\"],[0.5555555555555556,\"#d8576b\"],[0.6666666666666666,\"#ed7953\"],[0.7777777777777778,\"#fb9f3a\"],[0.8888888888888888,\"#fdca26\"],[1.0,\"#f0f921\"]]}],\"choropleth\":[{\"type\":\"choropleth\",\"colorbar\":{\"outlinewidth\":0,\"ticks\":\"\"}}],\"histogram2d\":[{\"type\":\"histogram2d\",\"colorbar\":{\"outlinewidth\":0,\"ticks\":\"\"},\"colorscale\":[[0.0,\"#0d0887\"],[0.1111111111111111,\"#46039f\"],[0.2222222222222222,\"#7201a8\"],[0.3333333333333333,\"#9c179e\"],[0.4444444444444444,\"#bd3786\"],[0.5555555555555556,\"#d8576b\"],[0.6666666666666666,\"#ed7953\"],[0.7777777777777778,\"#fb9f3a\"],[0.8888888888888888,\"#fdca26\"],[1.0,\"#f0f921\"]]}],\"heatmap\":[{\"type\":\"heatmap\",\"colorbar\":{\"outlinewidth\":0,\"ticks\":\"\"},\"colorscale\":[[0.0,\"#0d0887\"],[0.1111111111111111,\"#46039f\"],[0.2222222222222222,\"#7201a8\"],[0.3333333333333333,\"#9c179e\"],[0.4444444444444444,\"#bd3786\"],[0.5555555555555556,\"#d8576b\"],[0.6666666666666666,\"#ed7953\"],[0.7777777777777778,\"#fb9f3a\"],[0.8888888888888888,\"#fdca26\"],[1.0,\"#f0f921\"]]}],\"heatmapgl\":[{\"type\":\"heatmapgl\",\"colorbar\":{\"outlinewidth\":0,\"ticks\":\"\"},\"colorscale\":[[0.0,\"#0d0887\"],[0.1111111111111111,\"#46039f\"],[0.2222222222222222,\"#7201a8\"],[0.3333333333333333,\"#9c179e\"],[0.4444444444444444,\"#bd3786\"],[0.5555555555555556,\"#d8576b\"],[0.6666666666666666,\"#ed7953\"],[0.7777777777777778,\"#fb9f3a\"],[0.8888888888888888,\"#fdca26\"],[1.0,\"#f0f921\"]]}],\"contourcarpet\":[{\"type\":\"contourcarpet\",\"colorbar\":{\"outlinewidth\":0,\"ticks\":\"\"}}],\"contour\":[{\"type\":\"contour\",\"colorbar\":{\"outlinewidth\":0,\"ticks\":\"\"},\"colorscale\":[[0.0,\"#0d0887\"],[0.1111111111111111,\"#46039f\"],[0.2222222222222222,\"#7201a8\"],[0.3333333333333333,\"#9c179e\"],[0.4444444444444444,\"#bd3786\"],[0.5555555555555556,\"#d8576b\"],[0.6666666666666666,\"#ed7953\"],[0.7777777777777778,\"#fb9f3a\"],[0.8888888888888888,\"#fdca26\"],[1.0,\"#f0f921\"]]}],\"surface\":[{\"type\":\"surface\",\"colorbar\":{\"outlinewidth\":0,\"ticks\":\"\"},\"colorscale\":[[0.0,\"#0d0887\"],[0.1111111111111111,\"#46039f\"],[0.2222222222222222,\"#7201a8\"],[0.3333333333333333,\"#9c179e\"],[0.4444444444444444,\"#bd3786\"],[0.5555555555555556,\"#d8576b\"],[0.6666666666666666,\"#ed7953\"],[0.7777777777777778,\"#fb9f3a\"],[0.8888888888888888,\"#fdca26\"],[1.0,\"#f0f921\"]]}],\"mesh3d\":[{\"type\":\"mesh3d\",\"colorbar\":{\"outlinewidth\":0,\"ticks\":\"\"}}],\"scatter\":[{\"fillpattern\":{\"fillmode\":\"overlay\",\"size\":10,\"solidity\":0.2},\"type\":\"scatter\"}],\"parcoords\":[{\"type\":\"parcoords\",\"line\":{\"colorbar\":{\"outlinewidth\":0,\"ticks\":\"\"}}}],\"scatterpolargl\":[{\"type\":\"scatterpolargl\",\"marker\":{\"colorbar\":{\"outlinewidth\":0,\"ticks\":\"\"}}}],\"bar\":[{\"error_x\":{\"color\":\"#2a3f5f\"},\"error_y\":{\"color\":\"#2a3f5f\"},\"marker\":{\"line\":{\"color\":\"#E5ECF6\",\"width\":0.5},\"pattern\":{\"fillmode\":\"overlay\",\"size\":10,\"solidity\":0.2}},\"type\":\"bar\"}],\"scattergeo\":[{\"type\":\"scattergeo\",\"marker\":{\"colorbar\":{\"outlinewidth\":0,\"ticks\":\"\"}}}],\"scatterpolar\":[{\"type\":\"scatterpolar\",\"marker\":{\"colorbar\":{\"outlinewidth\":0,\"ticks\":\"\"}}}],\"histogram\":[{\"marker\":{\"pattern\":{\"fillmode\":\"overlay\",\"size\":10,\"solidity\":0.2}},\"type\":\"histogram\"}],\"scattergl\":[{\"type\":\"scattergl\",\"marker\":{\"colorbar\":{\"outlinewidth\":0,\"ticks\":\"\"}}}],\"scatter3d\":[{\"type\":\"scatter3d\",\"line\":{\"colorbar\":{\"outlinewidth\":0,\"ticks\":\"\"}},\"marker\":{\"colorbar\":{\"outlinewidth\":0,\"ticks\":\"\"}}}],\"scattermapbox\":[{\"type\":\"scattermapbox\",\"marker\":{\"colorbar\":{\"outlinewidth\":0,\"ticks\":\"\"}}}],\"scatterternary\":[{\"type\":\"scatterternary\",\"marker\":{\"colorbar\":{\"outlinewidth\":0,\"ticks\":\"\"}}}],\"scattercarpet\":[{\"type\":\"scattercarpet\",\"marker\":{\"colorbar\":{\"outlinewidth\":0,\"ticks\":\"\"}}}],\"carpet\":[{\"aaxis\":{\"endlinecolor\":\"#2a3f5f\",\"gridcolor\":\"white\",\"linecolor\":\"white\",\"minorgridcolor\":\"white\",\"startlinecolor\":\"#2a3f5f\"},\"baxis\":{\"endlinecolor\":\"#2a3f5f\",\"gridcolor\":\"white\",\"linecolor\":\"white\",\"minorgridcolor\":\"white\",\"startlinecolor\":\"#2a3f5f\"},\"type\":\"carpet\"}],\"table\":[{\"cells\":{\"fill\":{\"color\":\"#EBF0F8\"},\"line\":{\"color\":\"white\"}},\"header\":{\"fill\":{\"color\":\"#C8D4E3\"},\"line\":{\"color\":\"white\"}},\"type\":\"table\"}],\"barpolar\":[{\"marker\":{\"line\":{\"color\":\"#E5ECF6\",\"width\":0.5},\"pattern\":{\"fillmode\":\"overlay\",\"size\":10,\"solidity\":0.2}},\"type\":\"barpolar\"}],\"pie\":[{\"automargin\":true,\"type\":\"pie\"}]},\"layout\":{\"autotypenumbers\":\"strict\",\"colorway\":[\"#636efa\",\"#EF553B\",\"#00cc96\",\"#ab63fa\",\"#FFA15A\",\"#19d3f3\",\"#FF6692\",\"#B6E880\",\"#FF97FF\",\"#FECB52\"],\"font\":{\"color\":\"#2a3f5f\"},\"hovermode\":\"closest\",\"hoverlabel\":{\"align\":\"left\"},\"paper_bgcolor\":\"white\",\"plot_bgcolor\":\"#E5ECF6\",\"polar\":{\"bgcolor\":\"#E5ECF6\",\"angularaxis\":{\"gridcolor\":\"white\",\"linecolor\":\"white\",\"ticks\":\"\"},\"radialaxis\":{\"gridcolor\":\"white\",\"linecolor\":\"white\",\"ticks\":\"\"}},\"ternary\":{\"bgcolor\":\"#E5ECF6\",\"aaxis\":{\"gridcolor\":\"white\",\"linecolor\":\"white\",\"ticks\":\"\"},\"baxis\":{\"gridcolor\":\"white\",\"linecolor\":\"white\",\"ticks\":\"\"},\"caxis\":{\"gridcolor\":\"white\",\"linecolor\":\"white\",\"ticks\":\"\"}},\"coloraxis\":{\"colorbar\":{\"outlinewidth\":0,\"ticks\":\"\"}},\"colorscale\":{\"sequential\":[[0.0,\"#0d0887\"],[0.1111111111111111,\"#46039f\"],[0.2222222222222222,\"#7201a8\"],[0.3333333333333333,\"#9c179e\"],[0.4444444444444444,\"#bd3786\"],[0.5555555555555556,\"#d8576b\"],[0.6666666666666666,\"#ed7953\"],[0.7777777777777778,\"#fb9f3a\"],[0.8888888888888888,\"#fdca26\"],[1.0,\"#f0f921\"]],\"sequentialminus\":[[0.0,\"#0d0887\"],[0.1111111111111111,\"#46039f\"],[0.2222222222222222,\"#7201a8\"],[0.3333333333333333,\"#9c179e\"],[0.4444444444444444,\"#bd3786\"],[0.5555555555555556,\"#d8576b\"],[0.6666666666666666,\"#ed7953\"],[0.7777777777777778,\"#fb9f3a\"],[0.8888888888888888,\"#fdca26\"],[1.0,\"#f0f921\"]],\"diverging\":[[0,\"#8e0152\"],[0.1,\"#c51b7d\"],[0.2,\"#de77ae\"],[0.3,\"#f1b6da\"],[0.4,\"#fde0ef\"],[0.5,\"#f7f7f7\"],[0.6,\"#e6f5d0\"],[0.7,\"#b8e186\"],[0.8,\"#7fbc41\"],[0.9,\"#4d9221\"],[1,\"#276419\"]]},\"xaxis\":{\"gridcolor\":\"white\",\"linecolor\":\"white\",\"ticks\":\"\",\"title\":{\"standoff\":15},\"zerolinecolor\":\"white\",\"automargin\":true,\"zerolinewidth\":2},\"yaxis\":{\"gridcolor\":\"white\",\"linecolor\":\"white\",\"ticks\":\"\",\"title\":{\"standoff\":15},\"zerolinecolor\":\"white\",\"automargin\":true,\"zerolinewidth\":2},\"scene\":{\"xaxis\":{\"backgroundcolor\":\"#E5ECF6\",\"gridcolor\":\"white\",\"linecolor\":\"white\",\"showbackground\":true,\"ticks\":\"\",\"zerolinecolor\":\"white\",\"gridwidth\":2},\"yaxis\":{\"backgroundcolor\":\"#E5ECF6\",\"gridcolor\":\"white\",\"linecolor\":\"white\",\"showbackground\":true,\"ticks\":\"\",\"zerolinecolor\":\"white\",\"gridwidth\":2},\"zaxis\":{\"backgroundcolor\":\"#E5ECF6\",\"gridcolor\":\"white\",\"linecolor\":\"white\",\"showbackground\":true,\"ticks\":\"\",\"zerolinecolor\":\"white\",\"gridwidth\":2}},\"shapedefaults\":{\"line\":{\"color\":\"#2a3f5f\"}},\"annotationdefaults\":{\"arrowcolor\":\"#2a3f5f\",\"arrowhead\":0,\"arrowwidth\":1},\"geo\":{\"bgcolor\":\"white\",\"landcolor\":\"#E5ECF6\",\"subunitcolor\":\"white\",\"showland\":true,\"showlakes\":true,\"lakecolor\":\"white\"},\"title\":{\"x\":0.05},\"mapbox\":{\"style\":\"light\"}}},\"title\":{\"text\":\"Forecast for Item Number: MELPL-CAR using ARIMA\",\"x\":0.5},\"xaxis\":{\"title\":{\"text\":\"date_weekly\"}},\"yaxis\":{\"title\":{\"text\":\"Values\"}},\"plot_bgcolor\":\"rgba(0,0,0,0)\"},                        {\"responsive\": true}                    ).then(function(){\n",
              "                            \n",
              "var gd = document.getElementById('2210ce0f-37ab-4a4e-8de4-e61724cbfc1b');\n",
              "var x = new MutationObserver(function (mutations, observer) {{\n",
              "        var display = window.getComputedStyle(gd).display;\n",
              "        if (!display || display === 'none') {{\n",
              "            console.log([gd, 'removed!']);\n",
              "            Plotly.purge(gd);\n",
              "            observer.disconnect();\n",
              "        }}\n",
              "}});\n",
              "\n",
              "// Listen for the removal of the full notebook cells\n",
              "var notebookContainer = gd.closest('#notebook-container');\n",
              "if (notebookContainer) {{\n",
              "    x.observe(notebookContainer, {childList: true});\n",
              "}}\n",
              "\n",
              "// Listen for the clearing of the current output cell\n",
              "var outputEl = gd.closest('.output');\n",
              "if (outputEl) {{\n",
              "    x.observe(outputEl, {childList: true});\n",
              "}}\n",
              "\n",
              "                        })                };                            </script>        </div>\n",
              "</body>\n",
              "</html>"
            ]
          },
          "metadata": {}
        }
      ]
    },
    {
      "cell_type": "code",
      "source": [
        "import plotly.graph_objects as go\n",
        "\n",
        "# Choose a random _ItemNumber\n",
        "#item_number = \"CDCAK-TWISTG\"\n",
        "#item_number_values = ['MELCU-II','MELCU-DMI','MELCU-LMAGT','WRBIR-SXC']\n",
        "#item_number_values = ['MELCU-II','MELCU-DMI','MELCU-LMAGT','WRBIR-SXC']\n",
        "unique_item_numbers = result[\"_ItemNumber\"].unique()\n",
        "unique_item_numbers = top_20_models[\"_ItemNumber\"].unique()\n",
        "item_number = np.random.choice(unique_item_numbers, size=1, replace=False)[0]\n",
        "\n",
        "# Filter the data for the chosen _ItemNumber and sort by date_weekly\n",
        "filtered_data = result[result[\"_ItemNumber\"] == item_number].sort_values(by=\"date_weekly\")\n",
        "\n",
        "model_name = filtered_data[\"Model\"].dropna().iloc[0]\n",
        "\n",
        "total_sales_week = filtered_data.groupby('date_weekly').sum()['Q']\n",
        "total_sales_week = total_sales_week.reset_index()\n",
        "total_sales_week = total_sales_week[total_sales_week[\"Q\"] > 0]\n",
        "#total_sales_week = total_sales_week[total_sales_week[\"date_weekly\"] > '2020-01-01']\n",
        "filtered_data = filtered_data[filtered_data[\"date_weekly\"] > '2022-01-01']\n",
        "\n",
        "# Create the plot\n",
        "fig = go.Figure()\n",
        "\n",
        "# Plot the observed data\n",
        "fig.add_trace(go.Scatter(x=total_sales_week[\"date_weekly\"], y=total_sales_week[\"Q\"],\n",
        "                         mode='lines', name='Observed', line=dict(color=color_palette[0])))\n",
        "\n",
        "# Plot the forecasted data\n",
        "fig.add_trace(go.Scatter(x=filtered_data[\"date_weekly\"], y=filtered_data[\"Forecast\"],\n",
        "                         mode='lines', name=f'Forecast ({model_name})', line=dict(color=color_palette[4],dash=\"dash\")))\n",
        "\n",
        "# Plot the confidence intervals\n",
        "fig.add_trace(go.Scatter(x=filtered_data[\"date_weekly\"], y=filtered_data[\"ConfInt_upper\"],\n",
        "                         mode='lines', name='Upper Confidence Interval', line=dict(color='rgba(154, 177, 197, 0.2)'), showlegend=False))\n",
        "\n",
        "fig.add_trace(go.Scatter(x=filtered_data[\"date_weekly\"], y=filtered_data[\"ConfInt_lower\"],\n",
        "                         mode='lines', name='Lower Confidence Interval', line=dict(color='rgba(154, 177, 197, 0.2)'), showlegend=False, fill='tonexty'))\n",
        "\n",
        "\n",
        "# Set the plot title and labels\n",
        "fig.update_layout(title=f\"Forecast for Item Number: {item_number} using {model_name}\",title_x=0.5,\n",
        "                  xaxis_title=\"date_weekly\",\n",
        "                  yaxis_title=\"Values\", plot_bgcolor='rgba(0,0,0,0)')\n",
        "\n",
        "\n",
        "# Display the plot\n",
        "fig.show()\n"
      ],
      "metadata": {
        "id": "2MdeqZU0Lik0"
      },
      "execution_count": null,
      "outputs": []
    }
  ]
}